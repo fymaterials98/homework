{
 "cells": [
  {
   "cell_type": "markdown",
   "metadata": {},
   "source": [
    "## This challenge consists of three problems:\n",
    "## 1. What variables influence the Conversation Result to generate a positive outcome? How would you measure the impact of each variable on the result? What hypotheses can you extract from this analysis and what experiments would you suggest to increase the likelihood of positive conversation results?  \n",
    "## 2. Build a supervised learning model to predict the Conversation Result. Present a way to evaluate this model.  \n",
    "## 3. What insights related to user’s engagement with the app can you extract from the data? What clusters of users do have the highest engagement rate?"
   ]
  },
  {
   "cell_type": "markdown",
   "metadata": {},
   "source": [
    "## Part 1 Feature engineering"
   ]
  },
  {
   "cell_type": "markdown",
   "metadata": {},
   "source": [
    "### At first, load the csv file"
   ]
  },
  {
   "cell_type": "code",
   "execution_count": 1,
   "metadata": {},
   "outputs": [],
   "source": [
    "import pandas as pd\n",
    "import numpy as np"
   ]
  },
  {
   "cell_type": "code",
   "execution_count": 2,
   "metadata": {},
   "outputs": [],
   "source": [
    "conversation_data_path = './conversation.csv'\n",
    "users_data_path = './users.csv'"
   ]
  },
  {
   "cell_type": "code",
   "execution_count": 3,
   "metadata": {},
   "outputs": [],
   "source": [
    "conversation_data = pd.read_csv(conversation_data_path)\n",
    "users_data = pd.read_csv(users_data_path)"
   ]
  },
  {
   "cell_type": "markdown",
   "metadata": {},
   "source": [
    "### Take a glance of both conversation_data and users_data"
   ]
  },
  {
   "cell_type": "code",
   "execution_count": 4,
   "metadata": {},
   "outputs": [
    {
     "data": {
      "text/html": [
       "<div>\n",
       "<style scoped>\n",
       "    .dataframe tbody tr th:only-of-type {\n",
       "        vertical-align: middle;\n",
       "    }\n",
       "\n",
       "    .dataframe tbody tr th {\n",
       "        vertical-align: top;\n",
       "    }\n",
       "\n",
       "    .dataframe thead th {\n",
       "        text-align: right;\n",
       "    }\n",
       "</style>\n",
       "<table border=\"1\" class=\"dataframe\">\n",
       "  <thead>\n",
       "    <tr style=\"text-align: right;\">\n",
       "      <th></th>\n",
       "      <th>index</th>\n",
       "      <th>$os</th>\n",
       "      <th>conversation_duration</th>\n",
       "      <th>timestamp</th>\n",
       "      <th>emotion</th>\n",
       "      <th>emotion_level</th>\n",
       "      <th>conversation_result</th>\n",
       "      <th>thinking_traps</th>\n",
       "      <th>factors</th>\n",
       "      <th>distinct_id</th>\n",
       "    </tr>\n",
       "  </thead>\n",
       "  <tbody>\n",
       "    <tr>\n",
       "      <th>0</th>\n",
       "      <td>0</td>\n",
       "      <td>iOS</td>\n",
       "      <td>426</td>\n",
       "      <td>2018-10-02T00:00:10</td>\n",
       "      <td>tiredness</td>\n",
       "      <td>60.0</td>\n",
       "      <td>Positive</td>\n",
       "      <td>[]</td>\n",
       "      <td>['Sedentary', 'Being by myself', 'Home']</td>\n",
       "      <td>0D0BDF421B6A4E8DAACF2734E2376791</td>\n",
       "    </tr>\n",
       "    <tr>\n",
       "      <th>1</th>\n",
       "      <td>1</td>\n",
       "      <td>iOS</td>\n",
       "      <td>521</td>\n",
       "      <td>2018-10-02T00:01:25</td>\n",
       "      <td>depression</td>\n",
       "      <td>100.0</td>\n",
       "      <td>NaN</td>\n",
       "      <td>[]</td>\n",
       "      <td>['Family', 'Colleagues', 'Work', 'Home']</td>\n",
       "      <td>C601BCA939664B5D970409B43C2927EF</td>\n",
       "    </tr>\n",
       "    <tr>\n",
       "      <th>2</th>\n",
       "      <td>2</td>\n",
       "      <td>iOS</td>\n",
       "      <td>805</td>\n",
       "      <td>2018-10-02T00:01:50</td>\n",
       "      <td>insecurity</td>\n",
       "      <td>50.0</td>\n",
       "      <td>Negative</td>\n",
       "      <td>['What if Loop', 'Negative Glasses', 'Mind Rea...</td>\n",
       "      <td>['Colleagues', 'Work']</td>\n",
       "      <td>A1C2E7E7DB854B038E9D0CE0622820BD</td>\n",
       "    </tr>\n",
       "    <tr>\n",
       "      <th>3</th>\n",
       "      <td>3</td>\n",
       "      <td>iOS</td>\n",
       "      <td>392</td>\n",
       "      <td>2018-10-02T00:02:02</td>\n",
       "      <td>tiredness</td>\n",
       "      <td>75.0</td>\n",
       "      <td>Negative</td>\n",
       "      <td>[]</td>\n",
       "      <td>[]</td>\n",
       "      <td>5613AB8F803543E58981AA7FB214CE32</td>\n",
       "    </tr>\n",
       "    <tr>\n",
       "      <th>4</th>\n",
       "      <td>4</td>\n",
       "      <td>Android</td>\n",
       "      <td>562</td>\n",
       "      <td>2018-10-02T00:02:34</td>\n",
       "      <td>stress</td>\n",
       "      <td>90.0</td>\n",
       "      <td>NaN</td>\n",
       "      <td>['Blaming', 'Should Thinking', 'Catastrophic T...</td>\n",
       "      <td>['Finances']</td>\n",
       "      <td>FFC4648F36324B2DB128FC043BC64A9E</td>\n",
       "    </tr>\n",
       "  </tbody>\n",
       "</table>\n",
       "</div>"
      ],
      "text/plain": [
       "   index      $os  conversation_duration            timestamp     emotion  \\\n",
       "0      0      iOS                    426  2018-10-02T00:00:10   tiredness   \n",
       "1      1      iOS                    521  2018-10-02T00:01:25  depression   \n",
       "2      2      iOS                    805  2018-10-02T00:01:50  insecurity   \n",
       "3      3      iOS                    392  2018-10-02T00:02:02   tiredness   \n",
       "4      4  Android                    562  2018-10-02T00:02:34      stress   \n",
       "\n",
       "   emotion_level conversation_result  \\\n",
       "0           60.0            Positive   \n",
       "1          100.0                 NaN   \n",
       "2           50.0            Negative   \n",
       "3           75.0            Negative   \n",
       "4           90.0                 NaN   \n",
       "\n",
       "                                      thinking_traps  \\\n",
       "0                                                 []   \n",
       "1                                                 []   \n",
       "2  ['What if Loop', 'Negative Glasses', 'Mind Rea...   \n",
       "3                                                 []   \n",
       "4  ['Blaming', 'Should Thinking', 'Catastrophic T...   \n",
       "\n",
       "                                    factors                       distinct_id  \n",
       "0  ['Sedentary', 'Being by myself', 'Home']  0D0BDF421B6A4E8DAACF2734E2376791  \n",
       "1  ['Family', 'Colleagues', 'Work', 'Home']  C601BCA939664B5D970409B43C2927EF  \n",
       "2                    ['Colleagues', 'Work']  A1C2E7E7DB854B038E9D0CE0622820BD  \n",
       "3                                        []  5613AB8F803543E58981AA7FB214CE32  \n",
       "4                              ['Finances']  FFC4648F36324B2DB128FC043BC64A9E  "
      ]
     },
     "execution_count": 4,
     "metadata": {},
     "output_type": "execute_result"
    }
   ],
   "source": [
    "conversation_data.head()"
   ]
  },
  {
   "cell_type": "code",
   "execution_count": 5,
   "metadata": {},
   "outputs": [
    {
     "name": "stdout",
     "output_type": "stream",
     "text": [
      "('NaN number in conversation_duration is: ', 0)\n",
      "('NaN number in timestamp is: ', 0)\n",
      "('NaN number in emotion_level is: ', 0)\n",
      "('NaN number in convseration_result is: ', 42427)\n"
     ]
    }
   ],
   "source": [
    "print('NaN number in conversation_duration is: ', sum(pd.isnull(conversation_data.conversation_duration)))\n",
    "print('NaN number in timestamp is: ', sum(pd.isnull(conversation_data.timestamp)))\n",
    "print('NaN number in emotion_level is: ', sum(pd.isnull(conversation_data.emotion_level)))\n",
    "print('NaN number in convseration_result is: ', sum(pd.isnull(conversation_data.conversation_result)))"
   ]
  },
  {
   "cell_type": "markdown",
   "metadata": {},
   "source": [
    "## There are significant number of cases the user did not provide feedback on conversation_result."
   ]
  },
  {
   "cell_type": "code",
   "execution_count": 6,
   "metadata": {},
   "outputs": [
    {
     "data": {
      "text/html": [
       "<div>\n",
       "<style scoped>\n",
       "    .dataframe tbody tr th:only-of-type {\n",
       "        vertical-align: middle;\n",
       "    }\n",
       "\n",
       "    .dataframe tbody tr th {\n",
       "        vertical-align: top;\n",
       "    }\n",
       "\n",
       "    .dataframe thead th {\n",
       "        text-align: right;\n",
       "    }\n",
       "</style>\n",
       "<table border=\"1\" class=\"dataframe\">\n",
       "  <thead>\n",
       "    <tr style=\"text-align: right;\">\n",
       "      <th></th>\n",
       "      <th>index</th>\n",
       "      <th>$distinct_id</th>\n",
       "      <th>age</th>\n",
       "      <th>daily_notification</th>\n",
       "      <th>gender</th>\n",
       "      <th>occupation</th>\n",
       "      <th>personality_type</th>\n",
       "    </tr>\n",
       "  </thead>\n",
       "  <tbody>\n",
       "    <tr>\n",
       "      <th>0</th>\n",
       "      <td>0</td>\n",
       "      <td>E185ACD01070418FAC3A34186C1C00B1</td>\n",
       "      <td>22</td>\n",
       "      <td>NaN</td>\n",
       "      <td>male</td>\n",
       "      <td>Student full time</td>\n",
       "      <td>ENFPT</td>\n",
       "    </tr>\n",
       "    <tr>\n",
       "      <th>1</th>\n",
       "      <td>1</td>\n",
       "      <td>2921AB4622F14F548E5285C72AD4D984</td>\n",
       "      <td>28</td>\n",
       "      <td>21:30</td>\n",
       "      <td>male</td>\n",
       "      <td>Student full time</td>\n",
       "      <td>INFPA</td>\n",
       "    </tr>\n",
       "    <tr>\n",
       "      <th>2</th>\n",
       "      <td>2</td>\n",
       "      <td>03D71DB1C8934F13B45D3724FD1A2317</td>\n",
       "      <td>44</td>\n",
       "      <td>NaN</td>\n",
       "      <td>male</td>\n",
       "      <td>Work and attend school</td>\n",
       "      <td>INTJT</td>\n",
       "    </tr>\n",
       "    <tr>\n",
       "      <th>3</th>\n",
       "      <td>3</td>\n",
       "      <td>35E2C305385B49CB8BCB338FB2C2E648</td>\n",
       "      <td>39</td>\n",
       "      <td>NaN</td>\n",
       "      <td>female</td>\n",
       "      <td>Employed full time</td>\n",
       "      <td>INTPT</td>\n",
       "    </tr>\n",
       "    <tr>\n",
       "      <th>4</th>\n",
       "      <td>4</td>\n",
       "      <td>F4D57C4A448F4F3F885B7C5722B1207D</td>\n",
       "      <td>27</td>\n",
       "      <td>12:30</td>\n",
       "      <td>male</td>\n",
       "      <td>Freelancer or work part time</td>\n",
       "      <td>INFJT</td>\n",
       "    </tr>\n",
       "  </tbody>\n",
       "</table>\n",
       "</div>"
      ],
      "text/plain": [
       "   index                      $distinct_id  age daily_notification  gender  \\\n",
       "0      0  E185ACD01070418FAC3A34186C1C00B1   22                NaN    male   \n",
       "1      1  2921AB4622F14F548E5285C72AD4D984   28              21:30    male   \n",
       "2      2  03D71DB1C8934F13B45D3724FD1A2317   44                NaN    male   \n",
       "3      3  35E2C305385B49CB8BCB338FB2C2E648   39                NaN  female   \n",
       "4      4  F4D57C4A448F4F3F885B7C5722B1207D   27              12:30    male   \n",
       "\n",
       "                     occupation personality_type  \n",
       "0             Student full time            ENFPT  \n",
       "1             Student full time            INFPA  \n",
       "2        Work and attend school            INTJT  \n",
       "3            Employed full time            INTPT  \n",
       "4  Freelancer or work part time            INFJT  "
      ]
     },
     "execution_count": 6,
     "metadata": {},
     "output_type": "execute_result"
    }
   ],
   "source": [
    "users_data.head()"
   ]
  },
  {
   "cell_type": "code",
   "execution_count": 7,
   "metadata": {},
   "outputs": [
    {
     "name": "stdout",
     "output_type": "stream",
     "text": [
      "('NaN number in age is: ', 0)\n",
      "('NaN number in daily_notification is: ', 55755)\n",
      "('NaN number in gender is: ', 0)\n",
      "('NaN number in occupation is: ', 5078)\n",
      "('NaN number in personality_type is: ', 9292)\n"
     ]
    }
   ],
   "source": [
    "print('NaN number in age is: ', sum(pd.isnull(users_data.age)))\n",
    "print('NaN number in daily_notification is: ', sum(pd.isnull(users_data.daily_notification)))\n",
    "print('NaN number in gender is: ', sum(pd.isnull(users_data.gender)))\n",
    "print('NaN number in occupation is: ', sum(pd.isnull(users_data.occupation)))\n",
    "print('NaN number in personality_type is: ', sum(pd.isnull(users_data.personality_type)))"
   ]
  },
  {
   "cell_type": "markdown",
   "metadata": {},
   "source": [
    "Check how many samples in conversation_data."
   ]
  },
  {
   "cell_type": "code",
   "execution_count": 8,
   "metadata": {},
   "outputs": [
    {
     "name": "stdout",
     "output_type": "stream",
     "text": [
      "(160968, 10)\n"
     ]
    }
   ],
   "source": [
    "print(conversation_data.shape)"
   ]
  },
  {
   "cell_type": "markdown",
   "metadata": {},
   "source": [
    "check how many samples in users_data"
   ]
  },
  {
   "cell_type": "code",
   "execution_count": 9,
   "metadata": {},
   "outputs": [
    {
     "name": "stdout",
     "output_type": "stream",
     "text": [
      "(85068, 7)\n"
     ]
    }
   ],
   "source": [
    "print(users_data.shape)"
   ]
  },
  {
   "cell_type": "markdown",
   "metadata": {},
   "source": [
    "### The features can be categorized into three types: numerical type, categorical type and time type.   \n",
    "### 1. \\$os, emotion, conversation_result, thinking_traps, factors and distinct_id in conversation_data, gender, occupation, personality_type and \\\\$distinct_id in users_data are categorical type features.  \n",
    "### 2. timestamp and daily_notification are time type features (str type feature)\n",
    "### 3. Others are numerical features. "
   ]
  },
  {
   "cell_type": "markdown",
   "metadata": {},
   "source": [
    "rename some of the column name in the dataframe."
   ]
  },
  {
   "cell_type": "code",
   "execution_count": 10,
   "metadata": {},
   "outputs": [],
   "source": [
    "users_data_v1 = users_data.rename({'$distinct_id':'distinct_id'}, axis='columns')"
   ]
  },
  {
   "cell_type": "code",
   "execution_count": 11,
   "metadata": {},
   "outputs": [],
   "source": [
    "conversation_data_v1 = conversation_data.rename({'$os':'os'}, axis='columns')"
   ]
  },
  {
   "cell_type": "markdown",
   "metadata": {},
   "source": [
    "left_merge conversation_data_v1 table with users_data_v1."
   ]
  },
  {
   "cell_type": "code",
   "execution_count": 12,
   "metadata": {},
   "outputs": [],
   "source": [
    "df = conversation_data_v1.merge(users_data_v1, how='left', on=['distinct_id'], indicator=True)"
   ]
  },
  {
   "cell_type": "code",
   "execution_count": 13,
   "metadata": {},
   "outputs": [
    {
     "data": {
      "text/html": [
       "<div>\n",
       "<style scoped>\n",
       "    .dataframe tbody tr th:only-of-type {\n",
       "        vertical-align: middle;\n",
       "    }\n",
       "\n",
       "    .dataframe tbody tr th {\n",
       "        vertical-align: top;\n",
       "    }\n",
       "\n",
       "    .dataframe thead th {\n",
       "        text-align: right;\n",
       "    }\n",
       "</style>\n",
       "<table border=\"1\" class=\"dataframe\">\n",
       "  <thead>\n",
       "    <tr style=\"text-align: right;\">\n",
       "      <th></th>\n",
       "      <th>index_x</th>\n",
       "      <th>os</th>\n",
       "      <th>conversation_duration</th>\n",
       "      <th>timestamp</th>\n",
       "      <th>emotion</th>\n",
       "      <th>emotion_level</th>\n",
       "      <th>conversation_result</th>\n",
       "      <th>thinking_traps</th>\n",
       "      <th>factors</th>\n",
       "      <th>distinct_id</th>\n",
       "      <th>index_y</th>\n",
       "      <th>age</th>\n",
       "      <th>daily_notification</th>\n",
       "      <th>gender</th>\n",
       "      <th>occupation</th>\n",
       "      <th>personality_type</th>\n",
       "      <th>_merge</th>\n",
       "    </tr>\n",
       "  </thead>\n",
       "  <tbody>\n",
       "    <tr>\n",
       "      <th>0</th>\n",
       "      <td>0</td>\n",
       "      <td>iOS</td>\n",
       "      <td>426</td>\n",
       "      <td>2018-10-02T00:00:10</td>\n",
       "      <td>tiredness</td>\n",
       "      <td>60.0</td>\n",
       "      <td>Positive</td>\n",
       "      <td>[]</td>\n",
       "      <td>['Sedentary', 'Being by myself', 'Home']</td>\n",
       "      <td>0D0BDF421B6A4E8DAACF2734E2376791</td>\n",
       "      <td>64512.0</td>\n",
       "      <td>26.0</td>\n",
       "      <td>NaN</td>\n",
       "      <td>female</td>\n",
       "      <td>Student full time</td>\n",
       "      <td>INTJA</td>\n",
       "      <td>both</td>\n",
       "    </tr>\n",
       "    <tr>\n",
       "      <th>1</th>\n",
       "      <td>1</td>\n",
       "      <td>iOS</td>\n",
       "      <td>521</td>\n",
       "      <td>2018-10-02T00:01:25</td>\n",
       "      <td>depression</td>\n",
       "      <td>100.0</td>\n",
       "      <td>NaN</td>\n",
       "      <td>[]</td>\n",
       "      <td>['Family', 'Colleagues', 'Work', 'Home']</td>\n",
       "      <td>C601BCA939664B5D970409B43C2927EF</td>\n",
       "      <td>47163.0</td>\n",
       "      <td>20.0</td>\n",
       "      <td>NaN</td>\n",
       "      <td>female</td>\n",
       "      <td>NaN</td>\n",
       "      <td>NaN</td>\n",
       "      <td>both</td>\n",
       "    </tr>\n",
       "    <tr>\n",
       "      <th>2</th>\n",
       "      <td>2</td>\n",
       "      <td>iOS</td>\n",
       "      <td>805</td>\n",
       "      <td>2018-10-02T00:01:50</td>\n",
       "      <td>insecurity</td>\n",
       "      <td>50.0</td>\n",
       "      <td>Negative</td>\n",
       "      <td>['What if Loop', 'Negative Glasses', 'Mind Rea...</td>\n",
       "      <td>['Colleagues', 'Work']</td>\n",
       "      <td>A1C2E7E7DB854B038E9D0CE0622820BD</td>\n",
       "      <td>44548.0</td>\n",
       "      <td>35.0</td>\n",
       "      <td>06:00</td>\n",
       "      <td>male</td>\n",
       "      <td>Employed full time</td>\n",
       "      <td>ENFJT</td>\n",
       "      <td>both</td>\n",
       "    </tr>\n",
       "    <tr>\n",
       "      <th>3</th>\n",
       "      <td>3</td>\n",
       "      <td>iOS</td>\n",
       "      <td>392</td>\n",
       "      <td>2018-10-02T00:02:02</td>\n",
       "      <td>tiredness</td>\n",
       "      <td>75.0</td>\n",
       "      <td>Negative</td>\n",
       "      <td>[]</td>\n",
       "      <td>[]</td>\n",
       "      <td>5613AB8F803543E58981AA7FB214CE32</td>\n",
       "      <td>52175.0</td>\n",
       "      <td>18.0</td>\n",
       "      <td>NaN</td>\n",
       "      <td>male</td>\n",
       "      <td>Student full time</td>\n",
       "      <td>INFJA</td>\n",
       "      <td>both</td>\n",
       "    </tr>\n",
       "    <tr>\n",
       "      <th>4</th>\n",
       "      <td>4</td>\n",
       "      <td>Android</td>\n",
       "      <td>562</td>\n",
       "      <td>2018-10-02T00:02:34</td>\n",
       "      <td>stress</td>\n",
       "      <td>90.0</td>\n",
       "      <td>NaN</td>\n",
       "      <td>['Blaming', 'Should Thinking', 'Catastrophic T...</td>\n",
       "      <td>['Finances']</td>\n",
       "      <td>FFC4648F36324B2DB128FC043BC64A9E</td>\n",
       "      <td>71752.0</td>\n",
       "      <td>42.0</td>\n",
       "      <td>NaN</td>\n",
       "      <td>male</td>\n",
       "      <td>Freelancer or work part time</td>\n",
       "      <td>ENFJT</td>\n",
       "      <td>both</td>\n",
       "    </tr>\n",
       "  </tbody>\n",
       "</table>\n",
       "</div>"
      ],
      "text/plain": [
       "   index_x       os  conversation_duration            timestamp     emotion  \\\n",
       "0        0      iOS                    426  2018-10-02T00:00:10   tiredness   \n",
       "1        1      iOS                    521  2018-10-02T00:01:25  depression   \n",
       "2        2      iOS                    805  2018-10-02T00:01:50  insecurity   \n",
       "3        3      iOS                    392  2018-10-02T00:02:02   tiredness   \n",
       "4        4  Android                    562  2018-10-02T00:02:34      stress   \n",
       "\n",
       "   emotion_level conversation_result  \\\n",
       "0           60.0            Positive   \n",
       "1          100.0                 NaN   \n",
       "2           50.0            Negative   \n",
       "3           75.0            Negative   \n",
       "4           90.0                 NaN   \n",
       "\n",
       "                                      thinking_traps  \\\n",
       "0                                                 []   \n",
       "1                                                 []   \n",
       "2  ['What if Loop', 'Negative Glasses', 'Mind Rea...   \n",
       "3                                                 []   \n",
       "4  ['Blaming', 'Should Thinking', 'Catastrophic T...   \n",
       "\n",
       "                                    factors                       distinct_id  \\\n",
       "0  ['Sedentary', 'Being by myself', 'Home']  0D0BDF421B6A4E8DAACF2734E2376791   \n",
       "1  ['Family', 'Colleagues', 'Work', 'Home']  C601BCA939664B5D970409B43C2927EF   \n",
       "2                    ['Colleagues', 'Work']  A1C2E7E7DB854B038E9D0CE0622820BD   \n",
       "3                                        []  5613AB8F803543E58981AA7FB214CE32   \n",
       "4                              ['Finances']  FFC4648F36324B2DB128FC043BC64A9E   \n",
       "\n",
       "   index_y   age daily_notification  gender                    occupation  \\\n",
       "0  64512.0  26.0                NaN  female             Student full time   \n",
       "1  47163.0  20.0                NaN  female                           NaN   \n",
       "2  44548.0  35.0              06:00    male            Employed full time   \n",
       "3  52175.0  18.0                NaN    male             Student full time   \n",
       "4  71752.0  42.0                NaN    male  Freelancer or work part time   \n",
       "\n",
       "  personality_type _merge  \n",
       "0            INTJA   both  \n",
       "1              NaN   both  \n",
       "2            ENFJT   both  \n",
       "3            INFJA   both  \n",
       "4            ENFJT   both  "
      ]
     },
     "execution_count": 13,
     "metadata": {},
     "output_type": "execute_result"
    }
   ],
   "source": [
    "df.head()"
   ]
  },
  {
   "cell_type": "markdown",
   "metadata": {},
   "source": [
    "Build a new dataframe showing  how many samples in conversation_data_v1 have no user information."
   ]
  },
  {
   "cell_type": "code",
   "execution_count": 14,
   "metadata": {},
   "outputs": [],
   "source": [
    "df_no_user = df[df['_merge'] == 'left_only']"
   ]
  },
  {
   "cell_type": "code",
   "execution_count": 15,
   "metadata": {},
   "outputs": [
    {
     "data": {
      "text/html": [
       "<div>\n",
       "<style scoped>\n",
       "    .dataframe tbody tr th:only-of-type {\n",
       "        vertical-align: middle;\n",
       "    }\n",
       "\n",
       "    .dataframe tbody tr th {\n",
       "        vertical-align: top;\n",
       "    }\n",
       "\n",
       "    .dataframe thead th {\n",
       "        text-align: right;\n",
       "    }\n",
       "</style>\n",
       "<table border=\"1\" class=\"dataframe\">\n",
       "  <thead>\n",
       "    <tr style=\"text-align: right;\">\n",
       "      <th></th>\n",
       "      <th>index_x</th>\n",
       "      <th>os</th>\n",
       "      <th>conversation_duration</th>\n",
       "      <th>timestamp</th>\n",
       "      <th>emotion</th>\n",
       "      <th>emotion_level</th>\n",
       "      <th>conversation_result</th>\n",
       "      <th>thinking_traps</th>\n",
       "      <th>factors</th>\n",
       "      <th>distinct_id</th>\n",
       "      <th>index_y</th>\n",
       "      <th>age</th>\n",
       "      <th>daily_notification</th>\n",
       "      <th>gender</th>\n",
       "      <th>occupation</th>\n",
       "      <th>personality_type</th>\n",
       "      <th>_merge</th>\n",
       "    </tr>\n",
       "  </thead>\n",
       "  <tbody>\n",
       "    <tr>\n",
       "      <th>560</th>\n",
       "      <td>560</td>\n",
       "      <td>iOS</td>\n",
       "      <td>486</td>\n",
       "      <td>2018-10-02T06:37:50</td>\n",
       "      <td>tiredness</td>\n",
       "      <td>30.0</td>\n",
       "      <td>Positive</td>\n",
       "      <td>[]</td>\n",
       "      <td>['Bad Sleep', 'Being by myself', 'Finances', '...</td>\n",
       "      <td>0E5AD6F57E89423AA52CB0B2C62ACE9B</td>\n",
       "      <td>NaN</td>\n",
       "      <td>NaN</td>\n",
       "      <td>NaN</td>\n",
       "      <td>NaN</td>\n",
       "      <td>NaN</td>\n",
       "      <td>NaN</td>\n",
       "      <td>left_only</td>\n",
       "    </tr>\n",
       "    <tr>\n",
       "      <th>1095</th>\n",
       "      <td>1095</td>\n",
       "      <td>iOS</td>\n",
       "      <td>677</td>\n",
       "      <td>2018-10-02T13:34:12</td>\n",
       "      <td>insecurity</td>\n",
       "      <td>75.0</td>\n",
       "      <td>Positive</td>\n",
       "      <td>['Perfectionism', 'Negative Glasses', 'Catastr...</td>\n",
       "      <td>['Being by myself', 'Family', 'Friends', 'Coll...</td>\n",
       "      <td>CBB5AC03D938418C9C6E9BE9A734B04A</td>\n",
       "      <td>NaN</td>\n",
       "      <td>NaN</td>\n",
       "      <td>NaN</td>\n",
       "      <td>NaN</td>\n",
       "      <td>NaN</td>\n",
       "      <td>NaN</td>\n",
       "      <td>left_only</td>\n",
       "    </tr>\n",
       "    <tr>\n",
       "      <th>3683</th>\n",
       "      <td>3683</td>\n",
       "      <td>iOS</td>\n",
       "      <td>1151</td>\n",
       "      <td>2018-10-03T15:57:13</td>\n",
       "      <td>anxiety</td>\n",
       "      <td>85.0</td>\n",
       "      <td>Negative</td>\n",
       "      <td>['Blaming', 'Overgeneralization', 'What if Loo...</td>\n",
       "      <td>['Bad Sleep', 'Being by myself', 'Family', 'Fr...</td>\n",
       "      <td>23CE964AEF7448F88B585EC4924A6008</td>\n",
       "      <td>NaN</td>\n",
       "      <td>NaN</td>\n",
       "      <td>NaN</td>\n",
       "      <td>NaN</td>\n",
       "      <td>NaN</td>\n",
       "      <td>NaN</td>\n",
       "      <td>left_only</td>\n",
       "    </tr>\n",
       "    <tr>\n",
       "      <th>6472</th>\n",
       "      <td>6472</td>\n",
       "      <td>Android</td>\n",
       "      <td>389</td>\n",
       "      <td>2018-10-04T20:15:24</td>\n",
       "      <td>tiredness</td>\n",
       "      <td>80.0</td>\n",
       "      <td>NaN</td>\n",
       "      <td>[]</td>\n",
       "      <td>[]</td>\n",
       "      <td>E9A1F938C76848CB913455C51B765446</td>\n",
       "      <td>NaN</td>\n",
       "      <td>NaN</td>\n",
       "      <td>NaN</td>\n",
       "      <td>NaN</td>\n",
       "      <td>NaN</td>\n",
       "      <td>NaN</td>\n",
       "      <td>left_only</td>\n",
       "    </tr>\n",
       "    <tr>\n",
       "      <th>6732</th>\n",
       "      <td>6732</td>\n",
       "      <td>iOS</td>\n",
       "      <td>627</td>\n",
       "      <td>2018-10-04T22:50:19</td>\n",
       "      <td>numbness</td>\n",
       "      <td>60.0</td>\n",
       "      <td>Negative</td>\n",
       "      <td>[]</td>\n",
       "      <td>['Bad Sleep', 'Friends', 'Work']</td>\n",
       "      <td>6D3F974F5AAD4E8C91027BA583F62205</td>\n",
       "      <td>NaN</td>\n",
       "      <td>NaN</td>\n",
       "      <td>NaN</td>\n",
       "      <td>NaN</td>\n",
       "      <td>NaN</td>\n",
       "      <td>NaN</td>\n",
       "      <td>left_only</td>\n",
       "    </tr>\n",
       "  </tbody>\n",
       "</table>\n",
       "</div>"
      ],
      "text/plain": [
       "      index_x       os  conversation_duration            timestamp  \\\n",
       "560       560      iOS                    486  2018-10-02T06:37:50   \n",
       "1095     1095      iOS                    677  2018-10-02T13:34:12   \n",
       "3683     3683      iOS                   1151  2018-10-03T15:57:13   \n",
       "6472     6472  Android                    389  2018-10-04T20:15:24   \n",
       "6732     6732      iOS                    627  2018-10-04T22:50:19   \n",
       "\n",
       "         emotion  emotion_level conversation_result  \\\n",
       "560    tiredness           30.0            Positive   \n",
       "1095  insecurity           75.0            Positive   \n",
       "3683     anxiety           85.0            Negative   \n",
       "6472   tiredness           80.0                 NaN   \n",
       "6732    numbness           60.0            Negative   \n",
       "\n",
       "                                         thinking_traps  \\\n",
       "560                                                  []   \n",
       "1095  ['Perfectionism', 'Negative Glasses', 'Catastr...   \n",
       "3683  ['Blaming', 'Overgeneralization', 'What if Loo...   \n",
       "6472                                                 []   \n",
       "6732                                                 []   \n",
       "\n",
       "                                                factors  \\\n",
       "560   ['Bad Sleep', 'Being by myself', 'Finances', '...   \n",
       "1095  ['Being by myself', 'Family', 'Friends', 'Coll...   \n",
       "3683  ['Bad Sleep', 'Being by myself', 'Family', 'Fr...   \n",
       "6472                                                 []   \n",
       "6732                   ['Bad Sleep', 'Friends', 'Work']   \n",
       "\n",
       "                           distinct_id  index_y  age daily_notification  \\\n",
       "560   0E5AD6F57E89423AA52CB0B2C62ACE9B      NaN  NaN                NaN   \n",
       "1095  CBB5AC03D938418C9C6E9BE9A734B04A      NaN  NaN                NaN   \n",
       "3683  23CE964AEF7448F88B585EC4924A6008      NaN  NaN                NaN   \n",
       "6472  E9A1F938C76848CB913455C51B765446      NaN  NaN                NaN   \n",
       "6732  6D3F974F5AAD4E8C91027BA583F62205      NaN  NaN                NaN   \n",
       "\n",
       "     gender occupation personality_type     _merge  \n",
       "560     NaN        NaN              NaN  left_only  \n",
       "1095    NaN        NaN              NaN  left_only  \n",
       "3683    NaN        NaN              NaN  left_only  \n",
       "6472    NaN        NaN              NaN  left_only  \n",
       "6732    NaN        NaN              NaN  left_only  "
      ]
     },
     "execution_count": 15,
     "metadata": {},
     "output_type": "execute_result"
    }
   ],
   "source": [
    "df_no_user.head()"
   ]
  },
  {
   "cell_type": "code",
   "execution_count": 16,
   "metadata": {},
   "outputs": [
    {
     "name": "stdout",
     "output_type": "stream",
     "text": [
      "(1798, 17)\n"
     ]
    }
   ],
   "source": [
    "print(df_no_user.shape)"
   ]
  },
  {
   "cell_type": "code",
   "execution_count": 17,
   "metadata": {},
   "outputs": [
    {
     "name": "stdout",
     "output_type": "stream",
     "text": [
      "0.0111699219721\n"
     ]
    }
   ],
   "source": [
    "print((1798+0.0)/160968)"
   ]
  },
  {
   "cell_type": "markdown",
   "metadata": {},
   "source": [
    "### About 1% of conversation_data_v1 has no user information. So how does the age, gendar and personality_type affect the conversation_results?"
   ]
  },
  {
   "cell_type": "markdown",
   "metadata": {},
   "source": [
    "Write my own labelencoder, which can handle NaN variables."
   ]
  },
  {
   "cell_type": "code",
   "execution_count": 18,
   "metadata": {},
   "outputs": [],
   "source": [
    "class newLabelEncoder(object):\n",
    "    \n",
    "    def __init__(self, key_name):\n",
    "        self.key_name = key_name\n",
    "        \n",
    "    def fit(self, X, y=None):\n",
    "        #input X is series\n",
    "        self.keys = set(X)\n",
    "        num = 0\n",
    "        self.dict = {}\n",
    "        for item in self.keys:\n",
    "            self.dict[item] = num\n",
    "            num += 1\n",
    "        self.max_num = num + 1\n",
    "        \n",
    "    \n",
    "    def transform(self, X, y=None):\n",
    "        res = {self.key_name: []}  \n",
    "        for item in X:\n",
    "            if item in self.keys:\n",
    "                res[self.key_name].append(self.dict[item])\n",
    "            else:\n",
    "                res[self.key_name].append(self.max_num)\n",
    "        return pd.DataFrame(res)\n",
    "    \n",
    "    def fit_transform(self, X, y=None):\n",
    "        self.fit(X)\n",
    "        return self.transform(X)"
   ]
  },
  {
   "cell_type": "markdown",
   "metadata": {},
   "source": [
    "Drop the samples without user information."
   ]
  },
  {
   "cell_type": "code",
   "execution_count": 19,
   "metadata": {},
   "outputs": [],
   "source": [
    "df_temp = df.dropna(subset=['index_y'])\n",
    "df_temp.reset_index(drop=True, inplace=True)"
   ]
  },
  {
   "cell_type": "code",
   "execution_count": 20,
   "metadata": {},
   "outputs": [
    {
     "data": {
      "text/html": [
       "<div>\n",
       "<style scoped>\n",
       "    .dataframe tbody tr th:only-of-type {\n",
       "        vertical-align: middle;\n",
       "    }\n",
       "\n",
       "    .dataframe tbody tr th {\n",
       "        vertical-align: top;\n",
       "    }\n",
       "\n",
       "    .dataframe thead th {\n",
       "        text-align: right;\n",
       "    }\n",
       "</style>\n",
       "<table border=\"1\" class=\"dataframe\">\n",
       "  <thead>\n",
       "    <tr style=\"text-align: right;\">\n",
       "      <th></th>\n",
       "      <th>index_x</th>\n",
       "      <th>os</th>\n",
       "      <th>conversation_duration</th>\n",
       "      <th>timestamp</th>\n",
       "      <th>emotion</th>\n",
       "      <th>emotion_level</th>\n",
       "      <th>conversation_result</th>\n",
       "      <th>thinking_traps</th>\n",
       "      <th>factors</th>\n",
       "      <th>distinct_id</th>\n",
       "      <th>index_y</th>\n",
       "      <th>age</th>\n",
       "      <th>daily_notification</th>\n",
       "      <th>gender</th>\n",
       "      <th>occupation</th>\n",
       "      <th>personality_type</th>\n",
       "      <th>_merge</th>\n",
       "    </tr>\n",
       "  </thead>\n",
       "  <tbody>\n",
       "    <tr>\n",
       "      <th>0</th>\n",
       "      <td>0</td>\n",
       "      <td>iOS</td>\n",
       "      <td>426</td>\n",
       "      <td>2018-10-02T00:00:10</td>\n",
       "      <td>tiredness</td>\n",
       "      <td>60.0</td>\n",
       "      <td>Positive</td>\n",
       "      <td>[]</td>\n",
       "      <td>['Sedentary', 'Being by myself', 'Home']</td>\n",
       "      <td>0D0BDF421B6A4E8DAACF2734E2376791</td>\n",
       "      <td>64512.0</td>\n",
       "      <td>26.0</td>\n",
       "      <td>NaN</td>\n",
       "      <td>female</td>\n",
       "      <td>Student full time</td>\n",
       "      <td>INTJA</td>\n",
       "      <td>both</td>\n",
       "    </tr>\n",
       "    <tr>\n",
       "      <th>1</th>\n",
       "      <td>1</td>\n",
       "      <td>iOS</td>\n",
       "      <td>521</td>\n",
       "      <td>2018-10-02T00:01:25</td>\n",
       "      <td>depression</td>\n",
       "      <td>100.0</td>\n",
       "      <td>NaN</td>\n",
       "      <td>[]</td>\n",
       "      <td>['Family', 'Colleagues', 'Work', 'Home']</td>\n",
       "      <td>C601BCA939664B5D970409B43C2927EF</td>\n",
       "      <td>47163.0</td>\n",
       "      <td>20.0</td>\n",
       "      <td>NaN</td>\n",
       "      <td>female</td>\n",
       "      <td>NaN</td>\n",
       "      <td>NaN</td>\n",
       "      <td>both</td>\n",
       "    </tr>\n",
       "    <tr>\n",
       "      <th>2</th>\n",
       "      <td>2</td>\n",
       "      <td>iOS</td>\n",
       "      <td>805</td>\n",
       "      <td>2018-10-02T00:01:50</td>\n",
       "      <td>insecurity</td>\n",
       "      <td>50.0</td>\n",
       "      <td>Negative</td>\n",
       "      <td>['What if Loop', 'Negative Glasses', 'Mind Rea...</td>\n",
       "      <td>['Colleagues', 'Work']</td>\n",
       "      <td>A1C2E7E7DB854B038E9D0CE0622820BD</td>\n",
       "      <td>44548.0</td>\n",
       "      <td>35.0</td>\n",
       "      <td>06:00</td>\n",
       "      <td>male</td>\n",
       "      <td>Employed full time</td>\n",
       "      <td>ENFJT</td>\n",
       "      <td>both</td>\n",
       "    </tr>\n",
       "    <tr>\n",
       "      <th>3</th>\n",
       "      <td>3</td>\n",
       "      <td>iOS</td>\n",
       "      <td>392</td>\n",
       "      <td>2018-10-02T00:02:02</td>\n",
       "      <td>tiredness</td>\n",
       "      <td>75.0</td>\n",
       "      <td>Negative</td>\n",
       "      <td>[]</td>\n",
       "      <td>[]</td>\n",
       "      <td>5613AB8F803543E58981AA7FB214CE32</td>\n",
       "      <td>52175.0</td>\n",
       "      <td>18.0</td>\n",
       "      <td>NaN</td>\n",
       "      <td>male</td>\n",
       "      <td>Student full time</td>\n",
       "      <td>INFJA</td>\n",
       "      <td>both</td>\n",
       "    </tr>\n",
       "    <tr>\n",
       "      <th>4</th>\n",
       "      <td>4</td>\n",
       "      <td>Android</td>\n",
       "      <td>562</td>\n",
       "      <td>2018-10-02T00:02:34</td>\n",
       "      <td>stress</td>\n",
       "      <td>90.0</td>\n",
       "      <td>NaN</td>\n",
       "      <td>['Blaming', 'Should Thinking', 'Catastrophic T...</td>\n",
       "      <td>['Finances']</td>\n",
       "      <td>FFC4648F36324B2DB128FC043BC64A9E</td>\n",
       "      <td>71752.0</td>\n",
       "      <td>42.0</td>\n",
       "      <td>NaN</td>\n",
       "      <td>male</td>\n",
       "      <td>Freelancer or work part time</td>\n",
       "      <td>ENFJT</td>\n",
       "      <td>both</td>\n",
       "    </tr>\n",
       "  </tbody>\n",
       "</table>\n",
       "</div>"
      ],
      "text/plain": [
       "   index_x       os  conversation_duration            timestamp     emotion  \\\n",
       "0        0      iOS                    426  2018-10-02T00:00:10   tiredness   \n",
       "1        1      iOS                    521  2018-10-02T00:01:25  depression   \n",
       "2        2      iOS                    805  2018-10-02T00:01:50  insecurity   \n",
       "3        3      iOS                    392  2018-10-02T00:02:02   tiredness   \n",
       "4        4  Android                    562  2018-10-02T00:02:34      stress   \n",
       "\n",
       "   emotion_level conversation_result  \\\n",
       "0           60.0            Positive   \n",
       "1          100.0                 NaN   \n",
       "2           50.0            Negative   \n",
       "3           75.0            Negative   \n",
       "4           90.0                 NaN   \n",
       "\n",
       "                                      thinking_traps  \\\n",
       "0                                                 []   \n",
       "1                                                 []   \n",
       "2  ['What if Loop', 'Negative Glasses', 'Mind Rea...   \n",
       "3                                                 []   \n",
       "4  ['Blaming', 'Should Thinking', 'Catastrophic T...   \n",
       "\n",
       "                                    factors                       distinct_id  \\\n",
       "0  ['Sedentary', 'Being by myself', 'Home']  0D0BDF421B6A4E8DAACF2734E2376791   \n",
       "1  ['Family', 'Colleagues', 'Work', 'Home']  C601BCA939664B5D970409B43C2927EF   \n",
       "2                    ['Colleagues', 'Work']  A1C2E7E7DB854B038E9D0CE0622820BD   \n",
       "3                                        []  5613AB8F803543E58981AA7FB214CE32   \n",
       "4                              ['Finances']  FFC4648F36324B2DB128FC043BC64A9E   \n",
       "\n",
       "   index_y   age daily_notification  gender                    occupation  \\\n",
       "0  64512.0  26.0                NaN  female             Student full time   \n",
       "1  47163.0  20.0                NaN  female                           NaN   \n",
       "2  44548.0  35.0              06:00    male            Employed full time   \n",
       "3  52175.0  18.0                NaN    male             Student full time   \n",
       "4  71752.0  42.0                NaN    male  Freelancer or work part time   \n",
       "\n",
       "  personality_type _merge  \n",
       "0            INTJA   both  \n",
       "1              NaN   both  \n",
       "2            ENFJT   both  \n",
       "3            INFJA   both  \n",
       "4            ENFJT   both  "
      ]
     },
     "execution_count": 20,
     "metadata": {},
     "output_type": "execute_result"
    }
   ],
   "source": [
    "df_temp.head()"
   ]
  },
  {
   "cell_type": "markdown",
   "metadata": {},
   "source": [
    "### First, check if there is NaN value in thinking_traps column or factors column."
   ]
  },
  {
   "cell_type": "code",
   "execution_count": 21,
   "metadata": {},
   "outputs": [
    {
     "name": "stdout",
     "output_type": "stream",
     "text": [
      "('NaN number in thinking_traps is: ', 14)\n",
      "('NaN number in factors is: ', 1)\n"
     ]
    }
   ],
   "source": [
    "print('NaN number in thinking_traps is: ', sum(pd.isnull(df_temp.thinking_traps)))\n",
    "print('NaN number in factors is: ', sum(pd.isnull(df_temp.factors)))"
   ]
  },
  {
   "cell_type": "markdown",
   "metadata": {},
   "source": [
    "Check how many samples in df_temp"
   ]
  },
  {
   "cell_type": "code",
   "execution_count": 22,
   "metadata": {},
   "outputs": [
    {
     "name": "stdout",
     "output_type": "stream",
     "text": [
      "(159170, 17)\n"
     ]
    }
   ],
   "source": [
    "print(df_temp.shape)"
   ]
  },
  {
   "cell_type": "markdown",
   "metadata": {},
   "source": [
    "Since only very small amount of samples has NaN values in thinking_traps or factors,  remove these samples."
   ]
  },
  {
   "cell_type": "code",
   "execution_count": 23,
   "metadata": {},
   "outputs": [],
   "source": [
    "df_temp1 = df_temp.dropna(subset=['thinking_traps'])\n",
    "df_remove_no_user = df_temp1.dropna(subset=['factors'])\n",
    "del df_temp1\n",
    "df_remove_no_user.reset_index(drop=True, inplace=True)"
   ]
  },
  {
   "cell_type": "code",
   "execution_count": 24,
   "metadata": {},
   "outputs": [
    {
     "name": "stdout",
     "output_type": "stream",
     "text": [
      "('NaN number in thinking_traps is: ', 0)\n",
      "('NaN number in factors is: ', 0)\n"
     ]
    }
   ],
   "source": [
    "print('NaN number in thinking_traps is: ', sum(pd.isnull(df_remove_no_user.thinking_traps)))\n",
    "print('NaN number in factors is: ', sum(pd.isnull(df_remove_no_user.factors)))"
   ]
  },
  {
   "cell_type": "code",
   "execution_count": 25,
   "metadata": {},
   "outputs": [
    {
     "data": {
      "text/html": [
       "<div>\n",
       "<style scoped>\n",
       "    .dataframe tbody tr th:only-of-type {\n",
       "        vertical-align: middle;\n",
       "    }\n",
       "\n",
       "    .dataframe tbody tr th {\n",
       "        vertical-align: top;\n",
       "    }\n",
       "\n",
       "    .dataframe thead th {\n",
       "        text-align: right;\n",
       "    }\n",
       "</style>\n",
       "<table border=\"1\" class=\"dataframe\">\n",
       "  <thead>\n",
       "    <tr style=\"text-align: right;\">\n",
       "      <th></th>\n",
       "      <th>index_x</th>\n",
       "      <th>os</th>\n",
       "      <th>conversation_duration</th>\n",
       "      <th>timestamp</th>\n",
       "      <th>emotion</th>\n",
       "      <th>emotion_level</th>\n",
       "      <th>conversation_result</th>\n",
       "      <th>thinking_traps</th>\n",
       "      <th>factors</th>\n",
       "      <th>distinct_id</th>\n",
       "      <th>index_y</th>\n",
       "      <th>age</th>\n",
       "      <th>daily_notification</th>\n",
       "      <th>gender</th>\n",
       "      <th>occupation</th>\n",
       "      <th>personality_type</th>\n",
       "      <th>_merge</th>\n",
       "    </tr>\n",
       "  </thead>\n",
       "  <tbody>\n",
       "    <tr>\n",
       "      <th>0</th>\n",
       "      <td>0</td>\n",
       "      <td>iOS</td>\n",
       "      <td>426</td>\n",
       "      <td>2018-10-02T00:00:10</td>\n",
       "      <td>tiredness</td>\n",
       "      <td>60.0</td>\n",
       "      <td>Positive</td>\n",
       "      <td>[]</td>\n",
       "      <td>['Sedentary', 'Being by myself', 'Home']</td>\n",
       "      <td>0D0BDF421B6A4E8DAACF2734E2376791</td>\n",
       "      <td>64512.0</td>\n",
       "      <td>26.0</td>\n",
       "      <td>NaN</td>\n",
       "      <td>female</td>\n",
       "      <td>Student full time</td>\n",
       "      <td>INTJA</td>\n",
       "      <td>both</td>\n",
       "    </tr>\n",
       "    <tr>\n",
       "      <th>1</th>\n",
       "      <td>1</td>\n",
       "      <td>iOS</td>\n",
       "      <td>521</td>\n",
       "      <td>2018-10-02T00:01:25</td>\n",
       "      <td>depression</td>\n",
       "      <td>100.0</td>\n",
       "      <td>NaN</td>\n",
       "      <td>[]</td>\n",
       "      <td>['Family', 'Colleagues', 'Work', 'Home']</td>\n",
       "      <td>C601BCA939664B5D970409B43C2927EF</td>\n",
       "      <td>47163.0</td>\n",
       "      <td>20.0</td>\n",
       "      <td>NaN</td>\n",
       "      <td>female</td>\n",
       "      <td>NaN</td>\n",
       "      <td>NaN</td>\n",
       "      <td>both</td>\n",
       "    </tr>\n",
       "    <tr>\n",
       "      <th>2</th>\n",
       "      <td>2</td>\n",
       "      <td>iOS</td>\n",
       "      <td>805</td>\n",
       "      <td>2018-10-02T00:01:50</td>\n",
       "      <td>insecurity</td>\n",
       "      <td>50.0</td>\n",
       "      <td>Negative</td>\n",
       "      <td>['What if Loop', 'Negative Glasses', 'Mind Rea...</td>\n",
       "      <td>['Colleagues', 'Work']</td>\n",
       "      <td>A1C2E7E7DB854B038E9D0CE0622820BD</td>\n",
       "      <td>44548.0</td>\n",
       "      <td>35.0</td>\n",
       "      <td>06:00</td>\n",
       "      <td>male</td>\n",
       "      <td>Employed full time</td>\n",
       "      <td>ENFJT</td>\n",
       "      <td>both</td>\n",
       "    </tr>\n",
       "    <tr>\n",
       "      <th>3</th>\n",
       "      <td>3</td>\n",
       "      <td>iOS</td>\n",
       "      <td>392</td>\n",
       "      <td>2018-10-02T00:02:02</td>\n",
       "      <td>tiredness</td>\n",
       "      <td>75.0</td>\n",
       "      <td>Negative</td>\n",
       "      <td>[]</td>\n",
       "      <td>[]</td>\n",
       "      <td>5613AB8F803543E58981AA7FB214CE32</td>\n",
       "      <td>52175.0</td>\n",
       "      <td>18.0</td>\n",
       "      <td>NaN</td>\n",
       "      <td>male</td>\n",
       "      <td>Student full time</td>\n",
       "      <td>INFJA</td>\n",
       "      <td>both</td>\n",
       "    </tr>\n",
       "    <tr>\n",
       "      <th>4</th>\n",
       "      <td>4</td>\n",
       "      <td>Android</td>\n",
       "      <td>562</td>\n",
       "      <td>2018-10-02T00:02:34</td>\n",
       "      <td>stress</td>\n",
       "      <td>90.0</td>\n",
       "      <td>NaN</td>\n",
       "      <td>['Blaming', 'Should Thinking', 'Catastrophic T...</td>\n",
       "      <td>['Finances']</td>\n",
       "      <td>FFC4648F36324B2DB128FC043BC64A9E</td>\n",
       "      <td>71752.0</td>\n",
       "      <td>42.0</td>\n",
       "      <td>NaN</td>\n",
       "      <td>male</td>\n",
       "      <td>Freelancer or work part time</td>\n",
       "      <td>ENFJT</td>\n",
       "      <td>both</td>\n",
       "    </tr>\n",
       "  </tbody>\n",
       "</table>\n",
       "</div>"
      ],
      "text/plain": [
       "   index_x       os  conversation_duration            timestamp     emotion  \\\n",
       "0        0      iOS                    426  2018-10-02T00:00:10   tiredness   \n",
       "1        1      iOS                    521  2018-10-02T00:01:25  depression   \n",
       "2        2      iOS                    805  2018-10-02T00:01:50  insecurity   \n",
       "3        3      iOS                    392  2018-10-02T00:02:02   tiredness   \n",
       "4        4  Android                    562  2018-10-02T00:02:34      stress   \n",
       "\n",
       "   emotion_level conversation_result  \\\n",
       "0           60.0            Positive   \n",
       "1          100.0                 NaN   \n",
       "2           50.0            Negative   \n",
       "3           75.0            Negative   \n",
       "4           90.0                 NaN   \n",
       "\n",
       "                                      thinking_traps  \\\n",
       "0                                                 []   \n",
       "1                                                 []   \n",
       "2  ['What if Loop', 'Negative Glasses', 'Mind Rea...   \n",
       "3                                                 []   \n",
       "4  ['Blaming', 'Should Thinking', 'Catastrophic T...   \n",
       "\n",
       "                                    factors                       distinct_id  \\\n",
       "0  ['Sedentary', 'Being by myself', 'Home']  0D0BDF421B6A4E8DAACF2734E2376791   \n",
       "1  ['Family', 'Colleagues', 'Work', 'Home']  C601BCA939664B5D970409B43C2927EF   \n",
       "2                    ['Colleagues', 'Work']  A1C2E7E7DB854B038E9D0CE0622820BD   \n",
       "3                                        []  5613AB8F803543E58981AA7FB214CE32   \n",
       "4                              ['Finances']  FFC4648F36324B2DB128FC043BC64A9E   \n",
       "\n",
       "   index_y   age daily_notification  gender                    occupation  \\\n",
       "0  64512.0  26.0                NaN  female             Student full time   \n",
       "1  47163.0  20.0                NaN  female                           NaN   \n",
       "2  44548.0  35.0              06:00    male            Employed full time   \n",
       "3  52175.0  18.0                NaN    male             Student full time   \n",
       "4  71752.0  42.0                NaN    male  Freelancer or work part time   \n",
       "\n",
       "  personality_type _merge  \n",
       "0            INTJA   both  \n",
       "1              NaN   both  \n",
       "2            ENFJT   both  \n",
       "3            INFJA   both  \n",
       "4            ENFJT   both  "
      ]
     },
     "execution_count": 25,
     "metadata": {},
     "output_type": "execute_result"
    }
   ],
   "source": [
    "df_remove_no_user.head()"
   ]
  },
  {
   "cell_type": "markdown",
   "metadata": {},
   "source": [
    "Cast emotion_level, index_y and age to int type."
   ]
  },
  {
   "cell_type": "code",
   "execution_count": 26,
   "metadata": {},
   "outputs": [],
   "source": [
    "df_remove_no_user['emotion_level'] = df_remove_no_user['emotion_level'].map(lambda x: int(x))\n",
    "df_remove_no_user['index_y'] = df_remove_no_user['index_y'].map(lambda x: int(x))\n",
    "df_remove_no_user['age'] = df_remove_no_user['age'].map(lambda x: int(x))"
   ]
  },
  {
   "cell_type": "code",
   "execution_count": 27,
   "metadata": {},
   "outputs": [
    {
     "data": {
      "text/html": [
       "<div>\n",
       "<style scoped>\n",
       "    .dataframe tbody tr th:only-of-type {\n",
       "        vertical-align: middle;\n",
       "    }\n",
       "\n",
       "    .dataframe tbody tr th {\n",
       "        vertical-align: top;\n",
       "    }\n",
       "\n",
       "    .dataframe thead th {\n",
       "        text-align: right;\n",
       "    }\n",
       "</style>\n",
       "<table border=\"1\" class=\"dataframe\">\n",
       "  <thead>\n",
       "    <tr style=\"text-align: right;\">\n",
       "      <th></th>\n",
       "      <th>index_x</th>\n",
       "      <th>os</th>\n",
       "      <th>conversation_duration</th>\n",
       "      <th>timestamp</th>\n",
       "      <th>emotion</th>\n",
       "      <th>emotion_level</th>\n",
       "      <th>conversation_result</th>\n",
       "      <th>thinking_traps</th>\n",
       "      <th>factors</th>\n",
       "      <th>distinct_id</th>\n",
       "      <th>index_y</th>\n",
       "      <th>age</th>\n",
       "      <th>daily_notification</th>\n",
       "      <th>gender</th>\n",
       "      <th>occupation</th>\n",
       "      <th>personality_type</th>\n",
       "      <th>_merge</th>\n",
       "    </tr>\n",
       "  </thead>\n",
       "  <tbody>\n",
       "    <tr>\n",
       "      <th>0</th>\n",
       "      <td>0</td>\n",
       "      <td>iOS</td>\n",
       "      <td>426</td>\n",
       "      <td>2018-10-02T00:00:10</td>\n",
       "      <td>tiredness</td>\n",
       "      <td>60</td>\n",
       "      <td>Positive</td>\n",
       "      <td>[]</td>\n",
       "      <td>['Sedentary', 'Being by myself', 'Home']</td>\n",
       "      <td>0D0BDF421B6A4E8DAACF2734E2376791</td>\n",
       "      <td>64512</td>\n",
       "      <td>26</td>\n",
       "      <td>NaN</td>\n",
       "      <td>female</td>\n",
       "      <td>Student full time</td>\n",
       "      <td>INTJA</td>\n",
       "      <td>both</td>\n",
       "    </tr>\n",
       "    <tr>\n",
       "      <th>1</th>\n",
       "      <td>1</td>\n",
       "      <td>iOS</td>\n",
       "      <td>521</td>\n",
       "      <td>2018-10-02T00:01:25</td>\n",
       "      <td>depression</td>\n",
       "      <td>100</td>\n",
       "      <td>NaN</td>\n",
       "      <td>[]</td>\n",
       "      <td>['Family', 'Colleagues', 'Work', 'Home']</td>\n",
       "      <td>C601BCA939664B5D970409B43C2927EF</td>\n",
       "      <td>47163</td>\n",
       "      <td>20</td>\n",
       "      <td>NaN</td>\n",
       "      <td>female</td>\n",
       "      <td>NaN</td>\n",
       "      <td>NaN</td>\n",
       "      <td>both</td>\n",
       "    </tr>\n",
       "    <tr>\n",
       "      <th>2</th>\n",
       "      <td>2</td>\n",
       "      <td>iOS</td>\n",
       "      <td>805</td>\n",
       "      <td>2018-10-02T00:01:50</td>\n",
       "      <td>insecurity</td>\n",
       "      <td>50</td>\n",
       "      <td>Negative</td>\n",
       "      <td>['What if Loop', 'Negative Glasses', 'Mind Rea...</td>\n",
       "      <td>['Colleagues', 'Work']</td>\n",
       "      <td>A1C2E7E7DB854B038E9D0CE0622820BD</td>\n",
       "      <td>44548</td>\n",
       "      <td>35</td>\n",
       "      <td>06:00</td>\n",
       "      <td>male</td>\n",
       "      <td>Employed full time</td>\n",
       "      <td>ENFJT</td>\n",
       "      <td>both</td>\n",
       "    </tr>\n",
       "    <tr>\n",
       "      <th>3</th>\n",
       "      <td>3</td>\n",
       "      <td>iOS</td>\n",
       "      <td>392</td>\n",
       "      <td>2018-10-02T00:02:02</td>\n",
       "      <td>tiredness</td>\n",
       "      <td>75</td>\n",
       "      <td>Negative</td>\n",
       "      <td>[]</td>\n",
       "      <td>[]</td>\n",
       "      <td>5613AB8F803543E58981AA7FB214CE32</td>\n",
       "      <td>52175</td>\n",
       "      <td>18</td>\n",
       "      <td>NaN</td>\n",
       "      <td>male</td>\n",
       "      <td>Student full time</td>\n",
       "      <td>INFJA</td>\n",
       "      <td>both</td>\n",
       "    </tr>\n",
       "    <tr>\n",
       "      <th>4</th>\n",
       "      <td>4</td>\n",
       "      <td>Android</td>\n",
       "      <td>562</td>\n",
       "      <td>2018-10-02T00:02:34</td>\n",
       "      <td>stress</td>\n",
       "      <td>90</td>\n",
       "      <td>NaN</td>\n",
       "      <td>['Blaming', 'Should Thinking', 'Catastrophic T...</td>\n",
       "      <td>['Finances']</td>\n",
       "      <td>FFC4648F36324B2DB128FC043BC64A9E</td>\n",
       "      <td>71752</td>\n",
       "      <td>42</td>\n",
       "      <td>NaN</td>\n",
       "      <td>male</td>\n",
       "      <td>Freelancer or work part time</td>\n",
       "      <td>ENFJT</td>\n",
       "      <td>both</td>\n",
       "    </tr>\n",
       "  </tbody>\n",
       "</table>\n",
       "</div>"
      ],
      "text/plain": [
       "   index_x       os  conversation_duration            timestamp     emotion  \\\n",
       "0        0      iOS                    426  2018-10-02T00:00:10   tiredness   \n",
       "1        1      iOS                    521  2018-10-02T00:01:25  depression   \n",
       "2        2      iOS                    805  2018-10-02T00:01:50  insecurity   \n",
       "3        3      iOS                    392  2018-10-02T00:02:02   tiredness   \n",
       "4        4  Android                    562  2018-10-02T00:02:34      stress   \n",
       "\n",
       "   emotion_level conversation_result  \\\n",
       "0             60            Positive   \n",
       "1            100                 NaN   \n",
       "2             50            Negative   \n",
       "3             75            Negative   \n",
       "4             90                 NaN   \n",
       "\n",
       "                                      thinking_traps  \\\n",
       "0                                                 []   \n",
       "1                                                 []   \n",
       "2  ['What if Loop', 'Negative Glasses', 'Mind Rea...   \n",
       "3                                                 []   \n",
       "4  ['Blaming', 'Should Thinking', 'Catastrophic T...   \n",
       "\n",
       "                                    factors                       distinct_id  \\\n",
       "0  ['Sedentary', 'Being by myself', 'Home']  0D0BDF421B6A4E8DAACF2734E2376791   \n",
       "1  ['Family', 'Colleagues', 'Work', 'Home']  C601BCA939664B5D970409B43C2927EF   \n",
       "2                    ['Colleagues', 'Work']  A1C2E7E7DB854B038E9D0CE0622820BD   \n",
       "3                                        []  5613AB8F803543E58981AA7FB214CE32   \n",
       "4                              ['Finances']  FFC4648F36324B2DB128FC043BC64A9E   \n",
       "\n",
       "   index_y  age daily_notification  gender                    occupation  \\\n",
       "0    64512   26                NaN  female             Student full time   \n",
       "1    47163   20                NaN  female                           NaN   \n",
       "2    44548   35              06:00    male            Employed full time   \n",
       "3    52175   18                NaN    male             Student full time   \n",
       "4    71752   42                NaN    male  Freelancer or work part time   \n",
       "\n",
       "  personality_type _merge  \n",
       "0            INTJA   both  \n",
       "1              NaN   both  \n",
       "2            ENFJT   both  \n",
       "3            INFJA   both  \n",
       "4            ENFJT   both  "
      ]
     },
     "execution_count": 27,
     "metadata": {},
     "output_type": "execute_result"
    }
   ],
   "source": [
    "df_remove_no_user.head()"
   ]
  },
  {
   "cell_type": "code",
   "execution_count": 28,
   "metadata": {},
   "outputs": [
    {
     "data": {
      "text/plain": [
       "str"
      ]
     },
     "execution_count": 28,
     "metadata": {},
     "output_type": "execute_result"
    }
   ],
   "source": [
    "type(df_remove_no_user.timestamp[0])"
   ]
  },
  {
   "cell_type": "markdown",
   "metadata": {},
   "source": [
    "### Convert conversation_result into numerical values."
   ]
  },
  {
   "cell_type": "code",
   "execution_count": 29,
   "metadata": {},
   "outputs": [],
   "source": [
    "label_conversation_result = newLabelEncoder('conversation_reslt2num')"
   ]
  },
  {
   "cell_type": "code",
   "execution_count": 30,
   "metadata": {},
   "outputs": [],
   "source": [
    "conversation_result2num = label_conversation_result.fit_transform(df_remove_no_user.conversation_result)"
   ]
  },
  {
   "cell_type": "code",
   "execution_count": 31,
   "metadata": {},
   "outputs": [
    {
     "data": {
      "text/html": [
       "<div>\n",
       "<style scoped>\n",
       "    .dataframe tbody tr th:only-of-type {\n",
       "        vertical-align: middle;\n",
       "    }\n",
       "\n",
       "    .dataframe tbody tr th {\n",
       "        vertical-align: top;\n",
       "    }\n",
       "\n",
       "    .dataframe thead th {\n",
       "        text-align: right;\n",
       "    }\n",
       "</style>\n",
       "<table border=\"1\" class=\"dataframe\">\n",
       "  <thead>\n",
       "    <tr style=\"text-align: right;\">\n",
       "      <th></th>\n",
       "      <th>conversation_reslt2num</th>\n",
       "    </tr>\n",
       "  </thead>\n",
       "  <tbody>\n",
       "    <tr>\n",
       "      <th>0</th>\n",
       "      <td>1</td>\n",
       "    </tr>\n",
       "    <tr>\n",
       "      <th>1</th>\n",
       "      <td>0</td>\n",
       "    </tr>\n",
       "    <tr>\n",
       "      <th>2</th>\n",
       "      <td>2</td>\n",
       "    </tr>\n",
       "    <tr>\n",
       "      <th>3</th>\n",
       "      <td>2</td>\n",
       "    </tr>\n",
       "    <tr>\n",
       "      <th>4</th>\n",
       "      <td>0</td>\n",
       "    </tr>\n",
       "  </tbody>\n",
       "</table>\n",
       "</div>"
      ],
      "text/plain": [
       "   conversation_reslt2num\n",
       "0                       1\n",
       "1                       0\n",
       "2                       2\n",
       "3                       2\n",
       "4                       0"
      ]
     },
     "execution_count": 31,
     "metadata": {},
     "output_type": "execute_result"
    }
   ],
   "source": [
    "conversation_result2num.head()"
   ]
  },
  {
   "cell_type": "code",
   "execution_count": 32,
   "metadata": {},
   "outputs": [
    {
     "name": "stdout",
     "output_type": "stream",
     "text": [
      "{nan: 0, 'Positive': 1, 'Negative': 2}\n"
     ]
    }
   ],
   "source": [
    "print(label_conversation_result.dict)"
   ]
  },
  {
   "cell_type": "markdown",
   "metadata": {},
   "source": [
    "For daily_notification, it indicates the customer's engagement to the app.  Use 0 for NaN value, 1 otherwise."
   ]
  },
  {
   "cell_type": "code",
   "execution_count": 33,
   "metadata": {},
   "outputs": [],
   "source": [
    "daily_notification2num = df_remove_no_user.daily_notification.map(lambda x: 0 if type(x) == float else 1)"
   ]
  },
  {
   "cell_type": "code",
   "execution_count": 34,
   "metadata": {},
   "outputs": [
    {
     "data": {
      "text/plain": [
       "0    0\n",
       "1    0\n",
       "2    1\n",
       "3    0\n",
       "4    0\n",
       "Name: daily_notification, dtype: int64"
      ]
     },
     "execution_count": 34,
     "metadata": {},
     "output_type": "execute_result"
    }
   ],
   "source": [
    "daily_notification2num[:5]"
   ]
  },
  {
   "cell_type": "markdown",
   "metadata": {},
   "source": [
    "Create a dummy_transformer."
   ]
  },
  {
   "cell_type": "code",
   "execution_count": 35,
   "metadata": {},
   "outputs": [],
   "source": [
    "class Dummy_Transformer(object):\n",
    "    def __init__(self):\n",
    "        pass\n",
    "    \n",
    "    def fit(self, X, y=None):\n",
    "        self.keys = set(X)\n",
    "    \n",
    "    def transform(self, X, y=None):\n",
    "        res = {}\n",
    "        for key in self.keys:\n",
    "            res[key] = [0]*len(X)    \n",
    "        for i, item in enumerate(X):\n",
    "            if item in self.keys:\n",
    "                res[item][i] = 1\n",
    "        return pd.DataFrame(res)\n",
    "    \n",
    "    def fit_transform(self, X, y=None):\n",
    "        self.fit(X)\n",
    "        return self.transform(X)     "
   ]
  },
  {
   "cell_type": "code",
   "execution_count": 36,
   "metadata": {},
   "outputs": [],
   "source": [
    "temp_transformer = Dummy_Transformer()"
   ]
  },
  {
   "cell_type": "code",
   "execution_count": 37,
   "metadata": {},
   "outputs": [],
   "source": [
    "emotion_value = temp_transformer.fit_transform(df_remove_no_user.emotion)"
   ]
  },
  {
   "cell_type": "code",
   "execution_count": 38,
   "metadata": {},
   "outputs": [
    {
     "name": "stdout",
     "output_type": "stream",
     "text": [
      "set(['stress', 'anxiety', 'tiredness', 'numbness', 'insecurity', 'envy', 'shame', 'sadness', 'boredom', 'frustration', 'anger', 'fear', 'disgust', 'depression'])\n"
     ]
    }
   ],
   "source": [
    "print(temp_transformer.keys)"
   ]
  },
  {
   "cell_type": "code",
   "execution_count": 39,
   "metadata": {},
   "outputs": [],
   "source": [
    "temp_transformer = Dummy_Transformer()"
   ]
  },
  {
   "cell_type": "code",
   "execution_count": 40,
   "metadata": {},
   "outputs": [
    {
     "name": "stdout",
     "output_type": "stream",
     "text": [
      "set(['male', 'female'])\n"
     ]
    }
   ],
   "source": [
    "gender_value = temp_transformer.fit_transform(df_remove_no_user.gender)\n",
    "print(temp_transformer.keys)"
   ]
  },
  {
   "cell_type": "code",
   "execution_count": 41,
   "metadata": {},
   "outputs": [
    {
     "name": "stdout",
     "output_type": "stream",
     "text": [
      "set([nan, 'Work and attend school', 'Retired', 'Unemployed', 'Employed full time', 'Student full time', 'not_informed', 'Freelancer or work part time', 'Homemaker'])\n"
     ]
    }
   ],
   "source": [
    "temp_transformer = Dummy_Transformer()\n",
    "occupation_value = temp_transformer.fit_transform(df_remove_no_user.occupation)\n",
    "print(temp_transformer.keys)"
   ]
  },
  {
   "cell_type": "code",
   "execution_count": 42,
   "metadata": {},
   "outputs": [
    {
     "name": "stdout",
     "output_type": "stream",
     "text": [
      "set([nan, 'ENFPT', 'ISTPT', 'ISTJA', 'ISTPA', 'ENFPA', 'ISTJT', 'ISFPA', 'ESFJA', 'ESFPT', 'INFJA', 'ENTJA', 'ENTPT', 'INFJT', 'ESFPA', 'ESTPA', 'ENTPA', 'ENTJT', 'ESTPT', 'ENFJA', 'ISFPT', 'ESTJA', 'ESTJT', 'ENFJT', 'ESFJT', 'INFPT', 'ISFJT', 'INTPT', 'INTJA', 'INTJT', 'ISFJA', 'INFPA', 'INTPA'])\n"
     ]
    }
   ],
   "source": [
    "temp_transformer = Dummy_Transformer()\n",
    "personality_type_value = temp_transformer.fit_transform(df_remove_no_user.personality_type)\n",
    "print(temp_transformer.keys)"
   ]
  },
  {
   "cell_type": "markdown",
   "metadata": {},
   "source": [
    "thinking_traps and factors are list of string. "
   ]
  },
  {
   "cell_type": "code",
   "execution_count": 43,
   "metadata": {},
   "outputs": [],
   "source": [
    "import re"
   ]
  },
  {
   "cell_type": "code",
   "execution_count": 44,
   "metadata": {},
   "outputs": [],
   "source": [
    "class Dummy_List_Transformer(object):\n",
    "    def __init__(self):\n",
    "        pass\n",
    "    \n",
    "    def fit(self, X, y=None):\n",
    "        self.keys = set()\n",
    "        self.empty_value = 'empty'\n",
    "        for item in X:\n",
    "            temp_list =  re.findall(r\"'([^']*)'\", item)\n",
    "            if len(temp_list) == 0:\n",
    "                self.keys.add(self.empty_value)\n",
    "            else:\n",
    "                self.keys.update(temp_list)\n",
    "                \n",
    "            \n",
    "    \n",
    "    def transform(self, X, y=None):\n",
    "        res = {}\n",
    "        for key in self.keys:\n",
    "            res[key] = [0]*len(X)    \n",
    "        for i, item in enumerate(X):\n",
    "            temp_list = re.findall(r\"'([^']*)'\", item)\n",
    "            if len(temp_list) == 0:\n",
    "                res[self.empty_value][i] = 1\n",
    "            else:\n",
    "                for element in temp_list:\n",
    "                    if element in self.keys:\n",
    "                        res[element][i] = 1\n",
    "        return pd.DataFrame(res)\n",
    "    \n",
    "    def fit_transform(self, X, y=None):\n",
    "        self.fit(X)\n",
    "        return self.transform(X)     "
   ]
  },
  {
   "cell_type": "code",
   "execution_count": 45,
   "metadata": {},
   "outputs": [],
   "source": [
    "dummy_tf = Dummy_List_Transformer()\n",
    "temp_thinking_traps = dummy_tf.fit_transform(df_remove_no_user.thinking_traps)"
   ]
  },
  {
   "cell_type": "code",
   "execution_count": 46,
   "metadata": {},
   "outputs": [
    {
     "data": {
      "text/html": [
       "<div>\n",
       "<style scoped>\n",
       "    .dataframe tbody tr th:only-of-type {\n",
       "        vertical-align: middle;\n",
       "    }\n",
       "\n",
       "    .dataframe tbody tr th {\n",
       "        vertical-align: top;\n",
       "    }\n",
       "\n",
       "    .dataframe thead th {\n",
       "        text-align: right;\n",
       "    }\n",
       "</style>\n",
       "<table border=\"1\" class=\"dataframe\">\n",
       "  <thead>\n",
       "    <tr style=\"text-align: right;\">\n",
       "      <th></th>\n",
       "      <th>All-or-Nothing Thinking</th>\n",
       "      <th>Blaming</th>\n",
       "      <th>Catastrophic Thinking</th>\n",
       "      <th>Fortune Telling</th>\n",
       "      <th>Labeling</th>\n",
       "      <th>Mind Reading</th>\n",
       "      <th>Negative Glasses</th>\n",
       "      <th>Negative Memory</th>\n",
       "      <th>Not Accepting</th>\n",
       "      <th>Overgeneralization</th>\n",
       "      <th>Perfectionism</th>\n",
       "      <th>Personalization</th>\n",
       "      <th>Should Thinking</th>\n",
       "      <th>What if Loop</th>\n",
       "      <th>empty</th>\n",
       "    </tr>\n",
       "  </thead>\n",
       "  <tbody>\n",
       "    <tr>\n",
       "      <th>0</th>\n",
       "      <td>0</td>\n",
       "      <td>0</td>\n",
       "      <td>0</td>\n",
       "      <td>0</td>\n",
       "      <td>0</td>\n",
       "      <td>0</td>\n",
       "      <td>0</td>\n",
       "      <td>0</td>\n",
       "      <td>0</td>\n",
       "      <td>0</td>\n",
       "      <td>0</td>\n",
       "      <td>0</td>\n",
       "      <td>0</td>\n",
       "      <td>0</td>\n",
       "      <td>1</td>\n",
       "    </tr>\n",
       "    <tr>\n",
       "      <th>1</th>\n",
       "      <td>0</td>\n",
       "      <td>0</td>\n",
       "      <td>0</td>\n",
       "      <td>0</td>\n",
       "      <td>0</td>\n",
       "      <td>0</td>\n",
       "      <td>0</td>\n",
       "      <td>0</td>\n",
       "      <td>0</td>\n",
       "      <td>0</td>\n",
       "      <td>0</td>\n",
       "      <td>0</td>\n",
       "      <td>0</td>\n",
       "      <td>0</td>\n",
       "      <td>1</td>\n",
       "    </tr>\n",
       "    <tr>\n",
       "      <th>2</th>\n",
       "      <td>0</td>\n",
       "      <td>0</td>\n",
       "      <td>0</td>\n",
       "      <td>0</td>\n",
       "      <td>1</td>\n",
       "      <td>1</td>\n",
       "      <td>1</td>\n",
       "      <td>0</td>\n",
       "      <td>1</td>\n",
       "      <td>1</td>\n",
       "      <td>0</td>\n",
       "      <td>0</td>\n",
       "      <td>1</td>\n",
       "      <td>1</td>\n",
       "      <td>0</td>\n",
       "    </tr>\n",
       "    <tr>\n",
       "      <th>3</th>\n",
       "      <td>0</td>\n",
       "      <td>0</td>\n",
       "      <td>0</td>\n",
       "      <td>0</td>\n",
       "      <td>0</td>\n",
       "      <td>0</td>\n",
       "      <td>0</td>\n",
       "      <td>0</td>\n",
       "      <td>0</td>\n",
       "      <td>0</td>\n",
       "      <td>0</td>\n",
       "      <td>0</td>\n",
       "      <td>0</td>\n",
       "      <td>0</td>\n",
       "      <td>1</td>\n",
       "    </tr>\n",
       "    <tr>\n",
       "      <th>4</th>\n",
       "      <td>0</td>\n",
       "      <td>1</td>\n",
       "      <td>1</td>\n",
       "      <td>0</td>\n",
       "      <td>1</td>\n",
       "      <td>1</td>\n",
       "      <td>0</td>\n",
       "      <td>1</td>\n",
       "      <td>0</td>\n",
       "      <td>0</td>\n",
       "      <td>1</td>\n",
       "      <td>1</td>\n",
       "      <td>1</td>\n",
       "      <td>0</td>\n",
       "      <td>0</td>\n",
       "    </tr>\n",
       "  </tbody>\n",
       "</table>\n",
       "</div>"
      ],
      "text/plain": [
       "   All-or-Nothing Thinking  Blaming  Catastrophic Thinking  Fortune Telling  \\\n",
       "0                        0        0                      0                0   \n",
       "1                        0        0                      0                0   \n",
       "2                        0        0                      0                0   \n",
       "3                        0        0                      0                0   \n",
       "4                        0        1                      1                0   \n",
       "\n",
       "   Labeling  Mind Reading  Negative Glasses  Negative Memory  Not Accepting  \\\n",
       "0         0             0                 0                0              0   \n",
       "1         0             0                 0                0              0   \n",
       "2         1             1                 1                0              1   \n",
       "3         0             0                 0                0              0   \n",
       "4         1             1                 0                1              0   \n",
       "\n",
       "   Overgeneralization  Perfectionism  Personalization  Should Thinking  \\\n",
       "0                   0              0                0                0   \n",
       "1                   0              0                0                0   \n",
       "2                   1              0                0                1   \n",
       "3                   0              0                0                0   \n",
       "4                   0              1                1                1   \n",
       "\n",
       "   What if Loop  empty  \n",
       "0             0      1  \n",
       "1             0      1  \n",
       "2             1      0  \n",
       "3             0      1  \n",
       "4             0      0  "
      ]
     },
     "execution_count": 46,
     "metadata": {},
     "output_type": "execute_result"
    }
   ],
   "source": [
    "temp_thinking_traps.head()"
   ]
  },
  {
   "cell_type": "code",
   "execution_count": 47,
   "metadata": {},
   "outputs": [],
   "source": [
    "dummy_tf = Dummy_List_Transformer()\n",
    "temp_factors = dummy_tf.fit_transform(df_remove_no_user.factors)"
   ]
  },
  {
   "cell_type": "code",
   "execution_count": 48,
   "metadata": {},
   "outputs": [
    {
     "data": {
      "text/html": [
       "<div>\n",
       "<style scoped>\n",
       "    .dataframe tbody tr th:only-of-type {\n",
       "        vertical-align: middle;\n",
       "    }\n",
       "\n",
       "    .dataframe tbody tr th {\n",
       "        vertical-align: top;\n",
       "    }\n",
       "\n",
       "    .dataframe thead th {\n",
       "        text-align: right;\n",
       "    }\n",
       "</style>\n",
       "<table border=\"1\" class=\"dataframe\">\n",
       "  <thead>\n",
       "    <tr style=\"text-align: right;\">\n",
       "      <th></th>\n",
       "      <th>Alcohol</th>\n",
       "      <th>Bad Sleep</th>\n",
       "      <th>Being by myself</th>\n",
       "      <th>Binging</th>\n",
       "      <th>Books</th>\n",
       "      <th>Caffeine</th>\n",
       "      <th>Colleagues</th>\n",
       "      <th>Date</th>\n",
       "      <th>Dieting</th>\n",
       "      <th>Exercise</th>\n",
       "      <th>...</th>\n",
       "      <th>Shopping</th>\n",
       "      <th>Social Media</th>\n",
       "      <th>Socializing</th>\n",
       "      <th>Sports</th>\n",
       "      <th>Tobacco</th>\n",
       "      <th>Travel</th>\n",
       "      <th>Veggie</th>\n",
       "      <th>Weight</th>\n",
       "      <th>Work</th>\n",
       "      <th>empty</th>\n",
       "    </tr>\n",
       "  </thead>\n",
       "  <tbody>\n",
       "    <tr>\n",
       "      <th>0</th>\n",
       "      <td>0</td>\n",
       "      <td>0</td>\n",
       "      <td>1</td>\n",
       "      <td>0</td>\n",
       "      <td>0</td>\n",
       "      <td>0</td>\n",
       "      <td>0</td>\n",
       "      <td>0</td>\n",
       "      <td>0</td>\n",
       "      <td>0</td>\n",
       "      <td>...</td>\n",
       "      <td>0</td>\n",
       "      <td>0</td>\n",
       "      <td>0</td>\n",
       "      <td>0</td>\n",
       "      <td>0</td>\n",
       "      <td>0</td>\n",
       "      <td>0</td>\n",
       "      <td>0</td>\n",
       "      <td>0</td>\n",
       "      <td>0</td>\n",
       "    </tr>\n",
       "    <tr>\n",
       "      <th>1</th>\n",
       "      <td>0</td>\n",
       "      <td>0</td>\n",
       "      <td>0</td>\n",
       "      <td>0</td>\n",
       "      <td>0</td>\n",
       "      <td>0</td>\n",
       "      <td>1</td>\n",
       "      <td>0</td>\n",
       "      <td>0</td>\n",
       "      <td>0</td>\n",
       "      <td>...</td>\n",
       "      <td>0</td>\n",
       "      <td>0</td>\n",
       "      <td>0</td>\n",
       "      <td>0</td>\n",
       "      <td>0</td>\n",
       "      <td>0</td>\n",
       "      <td>0</td>\n",
       "      <td>0</td>\n",
       "      <td>1</td>\n",
       "      <td>0</td>\n",
       "    </tr>\n",
       "    <tr>\n",
       "      <th>2</th>\n",
       "      <td>0</td>\n",
       "      <td>0</td>\n",
       "      <td>0</td>\n",
       "      <td>0</td>\n",
       "      <td>0</td>\n",
       "      <td>0</td>\n",
       "      <td>1</td>\n",
       "      <td>0</td>\n",
       "      <td>0</td>\n",
       "      <td>0</td>\n",
       "      <td>...</td>\n",
       "      <td>0</td>\n",
       "      <td>0</td>\n",
       "      <td>0</td>\n",
       "      <td>0</td>\n",
       "      <td>0</td>\n",
       "      <td>0</td>\n",
       "      <td>0</td>\n",
       "      <td>0</td>\n",
       "      <td>1</td>\n",
       "      <td>0</td>\n",
       "    </tr>\n",
       "    <tr>\n",
       "      <th>3</th>\n",
       "      <td>0</td>\n",
       "      <td>0</td>\n",
       "      <td>0</td>\n",
       "      <td>0</td>\n",
       "      <td>0</td>\n",
       "      <td>0</td>\n",
       "      <td>0</td>\n",
       "      <td>0</td>\n",
       "      <td>0</td>\n",
       "      <td>0</td>\n",
       "      <td>...</td>\n",
       "      <td>0</td>\n",
       "      <td>0</td>\n",
       "      <td>0</td>\n",
       "      <td>0</td>\n",
       "      <td>0</td>\n",
       "      <td>0</td>\n",
       "      <td>0</td>\n",
       "      <td>0</td>\n",
       "      <td>0</td>\n",
       "      <td>1</td>\n",
       "    </tr>\n",
       "    <tr>\n",
       "      <th>4</th>\n",
       "      <td>0</td>\n",
       "      <td>0</td>\n",
       "      <td>0</td>\n",
       "      <td>0</td>\n",
       "      <td>0</td>\n",
       "      <td>0</td>\n",
       "      <td>0</td>\n",
       "      <td>0</td>\n",
       "      <td>0</td>\n",
       "      <td>0</td>\n",
       "      <td>...</td>\n",
       "      <td>0</td>\n",
       "      <td>0</td>\n",
       "      <td>0</td>\n",
       "      <td>0</td>\n",
       "      <td>0</td>\n",
       "      <td>0</td>\n",
       "      <td>0</td>\n",
       "      <td>0</td>\n",
       "      <td>0</td>\n",
       "      <td>0</td>\n",
       "    </tr>\n",
       "  </tbody>\n",
       "</table>\n",
       "<p>5 rows × 44 columns</p>\n",
       "</div>"
      ],
      "text/plain": [
       "   Alcohol  Bad Sleep  Being by myself  Binging  Books  Caffeine  Colleagues  \\\n",
       "0        0          0                1        0      0         0           0   \n",
       "1        0          0                0        0      0         0           1   \n",
       "2        0          0                0        0      0         0           1   \n",
       "3        0          0                0        0      0         0           0   \n",
       "4        0          0                0        0      0         0           0   \n",
       "\n",
       "   Date  Dieting  Exercise  ...    Shopping  Social Media  Socializing  \\\n",
       "0     0        0         0  ...           0             0            0   \n",
       "1     0        0         0  ...           0             0            0   \n",
       "2     0        0         0  ...           0             0            0   \n",
       "3     0        0         0  ...           0             0            0   \n",
       "4     0        0         0  ...           0             0            0   \n",
       "\n",
       "   Sports  Tobacco  Travel  Veggie  Weight  Work  empty  \n",
       "0       0        0       0       0       0     0      0  \n",
       "1       0        0       0       0       0     1      0  \n",
       "2       0        0       0       0       0     1      0  \n",
       "3       0        0       0       0       0     0      1  \n",
       "4       0        0       0       0       0     0      0  \n",
       "\n",
       "[5 rows x 44 columns]"
      ]
     },
     "execution_count": 48,
     "metadata": {},
     "output_type": "execute_result"
    }
   ],
   "source": [
    "temp_factors.head()"
   ]
  },
  {
   "cell_type": "markdown",
   "metadata": {},
   "source": [
    "## Part 2 Find which feature(s) affect conversation_result"
   ]
  },
  {
   "cell_type": "markdown",
   "metadata": {},
   "source": [
    "### 2.1 Check numerical type features."
   ]
  },
  {
   "cell_type": "markdown",
   "metadata": {},
   "source": [
    "***age feature***"
   ]
  },
  {
   "cell_type": "code",
   "execution_count": 49,
   "metadata": {},
   "outputs": [],
   "source": [
    "temp = df_remove_no_user[pd.isnull(df_remove_no_user.conversation_result)].age"
   ]
  },
  {
   "cell_type": "code",
   "execution_count": 50,
   "metadata": {},
   "outputs": [
    {
     "data": {
      "text/plain": [
       "0    20\n",
       "1    42\n",
       "2    19\n",
       "3    21\n",
       "4    19\n",
       "Name: age, dtype: int64"
      ]
     },
     "execution_count": 50,
     "metadata": {},
     "output_type": "execute_result"
    }
   ],
   "source": [
    "temp_age_nan = temp.reset_index(drop=True)\n",
    "temp_age_nan[:5]"
   ]
  },
  {
   "cell_type": "code",
   "execution_count": 51,
   "metadata": {},
   "outputs": [
    {
     "data": {
      "text/plain": [
       "0    26\n",
       "1    29\n",
       "2    28\n",
       "3    25\n",
       "4    18\n",
       "Name: age, dtype: int64"
      ]
     },
     "execution_count": 51,
     "metadata": {},
     "output_type": "execute_result"
    }
   ],
   "source": [
    "temp = df_remove_no_user[df_remove_no_user.conversation_result == 'Positive'].age\n",
    "temp_age_positive = temp.reset_index(drop=True)\n",
    "temp_age_positive[:5]"
   ]
  },
  {
   "cell_type": "code",
   "execution_count": 52,
   "metadata": {},
   "outputs": [
    {
     "data": {
      "text/plain": [
       "0    35\n",
       "1    18\n",
       "2    42\n",
       "3    23\n",
       "4    34\n",
       "Name: age, dtype: int64"
      ]
     },
     "execution_count": 52,
     "metadata": {},
     "output_type": "execute_result"
    }
   ],
   "source": [
    "temp = df_remove_no_user[df_remove_no_user.conversation_result == 'Negative'].age\n",
    "temp_age_negative = temp.reset_index(drop=True)\n",
    "temp_age_negative[:5]"
   ]
  },
  {
   "cell_type": "code",
   "execution_count": 53,
   "metadata": {},
   "outputs": [],
   "source": [
    "import matplotlib.pyplot as plt\n",
    "%matplotlib inline "
   ]
  },
  {
   "cell_type": "code",
   "execution_count": 54,
   "metadata": {},
   "outputs": [
    {
     "name": "stdout",
     "output_type": "stream",
     "text": [
      "('max is : ', 85, ' min is: ', 18)\n"
     ]
    }
   ],
   "source": [
    "print('max is : ', df_remove_no_user.age.max(), ' min is: ', df_remove_no_user.age.min())"
   ]
  },
  {
   "cell_type": "markdown",
   "metadata": {},
   "source": [
    "Plot histogram of ages for different conversation_result"
   ]
  },
  {
   "cell_type": "code",
   "execution_count": null,
   "metadata": {},
   "outputs": [],
   "source": [
    "bins = np.linspace(10, 90, 20)\n",
    "plt.hist(temp_age_nan, bins, alpha=0.5, density=True, label='nan')\n",
    "plt.hist(temp_age_positive, bins, alpha=0.5, density=True, label='Positive')\n",
    "plt.hist(temp_age_negative, bins, alpha=0.5, density=True, label='Negative')\n",
    "plt.legend(loc='upper right')\n",
    "plt.show()"
   ]
  },
  {
   "cell_type": "code",
   "execution_count": 55,
   "metadata": {},
   "outputs": [
    {
     "data": {
      "text/plain": [
       "<matplotlib.legend.Legend at 0x19937e48>"
      ]
     },
     "execution_count": 55,
     "metadata": {},
     "output_type": "execute_result"
    },
    {
     "data": {
      "image/png": "[encoded data removed]",
      "text/plain": [
       "<Figure size 864x216 with 3 Axes>"
      ]
     },
     "metadata": {
      "needs_background": "light"
     },
     "output_type": "display_data"
    }
   ],
   "source": [
    "f = plt.figure(figsize=(12,3))\n",
    "ax1 = f.add_subplot(131)\n",
    "ax2 = f.add_subplot(132)\n",
    "ax3 = f.add_subplot(133)\n",
    "bins = np.linspace(10, 90, 20)\n",
    "ax1.hist(temp_age_nan, bins, alpha=0.5, density=True, label='nan')\n",
    "ax1.hist(temp_age_positive, bins, alpha=0.5, density=True, label='Positive')\n",
    "ax1.legend(loc='upper right')\n",
    "\n",
    "ax2.hist(temp_age_nan, bins, alpha=0.5, density=True, label='nan')\n",
    "ax2.hist(temp_age_negative, bins, alpha=0.5, density=True, label='negative')\n",
    "ax2.legend(loc='upper right')\n",
    "\n",
    "ax3.hist(temp_age_negative, bins, alpha=0.5, density=True, label='negative')\n",
    "ax3.hist(temp_age_positive, bins, alpha=0.5, density=True, label='Positive')\n",
    "ax3.legend(loc='upper right')"
   ]
  },
  {
   "cell_type": "markdown",
   "metadata": {},
   "source": [
    "### Based on the histogram, the age distribution for three conversation_result is very similar. "
   ]
  },
  {
   "cell_type": "markdown",
   "metadata": {},
   "source": [
    "***conversation_duration***"
   ]
  },
  {
   "cell_type": "code",
   "execution_count": 56,
   "metadata": {},
   "outputs": [],
   "source": [
    "temp = df_remove_no_user[pd.isnull(df_remove_no_user.conversation_result)].conversation_duration\n",
    "temp_duration_nan = temp.reset_index(drop=True)\n",
    "\n",
    "temp = df_remove_no_user[df_remove_no_user.conversation_result == 'Positive'].conversation_duration\n",
    "temp_duration_positive = temp.reset_index(drop=True)\n",
    "\n",
    "temp = df_remove_no_user[df_remove_no_user.conversation_result == 'Negative'].conversation_duration\n",
    "temp_duration_negative = temp.reset_index(drop=True)"
   ]
  },
  {
   "cell_type": "code",
   "execution_count": 57,
   "metadata": {},
   "outputs": [
    {
     "data": {
      "text/plain": [
       "-86095"
      ]
     },
     "execution_count": 57,
     "metadata": {},
     "output_type": "execute_result"
    }
   ],
   "source": [
    "temp_duration_positive.min()"
   ]
  },
  {
   "cell_type": "code",
   "execution_count": 58,
   "metadata": {},
   "outputs": [
    {
     "data": {
      "text/plain": [
       "1"
      ]
     },
     "execution_count": 58,
     "metadata": {},
     "output_type": "execute_result"
    }
   ],
   "source": [
    "sum(conversation_data.conversation_duration < 0)"
   ]
  },
  {
   "cell_type": "code",
   "execution_count": 59,
   "metadata": {},
   "outputs": [
    {
     "data": {
      "text/plain": [
       "1"
      ]
     },
     "execution_count": 59,
     "metadata": {},
     "output_type": "execute_result"
    }
   ],
   "source": [
    "sum(conversation_data.conversation_duration > 3600*24*3)"
   ]
  },
  {
   "cell_type": "code",
   "execution_count": 60,
   "metadata": {},
   "outputs": [
    {
     "data": {
      "text/plain": [
       "156830"
      ]
     },
     "execution_count": 60,
     "metadata": {},
     "output_type": "execute_result"
    }
   ],
   "source": [
    "sum(conversation_data.conversation_duration <3600)"
   ]
  },
  {
   "cell_type": "code",
   "execution_count": 61,
   "metadata": {},
   "outputs": [
    {
     "data": {
      "text/plain": [
       "(159156, 17)"
      ]
     },
     "execution_count": 61,
     "metadata": {},
     "output_type": "execute_result"
    }
   ],
   "source": [
    "df_remove_no_user.shape"
   ]
  },
  {
   "cell_type": "code",
   "execution_count": 62,
   "metadata": {},
   "outputs": [
    {
     "data": {
      "text/plain": [
       "155056"
      ]
     },
     "execution_count": 62,
     "metadata": {},
     "output_type": "execute_result"
    }
   ],
   "source": [
    "sum(df_remove_no_user.conversation_duration < 3600)"
   ]
  },
  {
   "cell_type": "code",
   "execution_count": 63,
   "metadata": {},
   "outputs": [
    {
     "name": "stdout",
     "output_type": "stream",
     "text": [
      "('max is : ', 9842884, ' min is: ', -86095)\n"
     ]
    }
   ],
   "source": [
    "print('max is : ', df_remove_no_user.conversation_duration.max(),\n",
    "      ' min is: ', df_remove_no_user.conversation_duration.min())"
   ]
  },
  {
   "cell_type": "markdown",
   "metadata": {},
   "source": [
    "Obviously, the max value and min value was recorded wrong. Since there are only two extreme outliers,  it will have insignificant influence."
   ]
  },
  {
   "cell_type": "code",
   "execution_count": 64,
   "metadata": {},
   "outputs": [],
   "source": [
    "bins = np.linspace(0, 3600, 100)"
   ]
  },
  {
   "cell_type": "code",
   "execution_count": 65,
   "metadata": {},
   "outputs": [
    {
     "data": {
      "text/plain": [
       "<matplotlib.legend.Legend at 0x1a93ed68>"
      ]
     },
     "execution_count": 65,
     "metadata": {},
     "output_type": "execute_result"
    },
    {
     "data": {
      "image/png": "[encoded data removed]",
      "text/plain": [
       "<Figure size 864x216 with 3 Axes>"
      ]
     },
     "metadata": {
      "needs_background": "light"
     },
     "output_type": "display_data"
    }
   ],
   "source": [
    "f = plt.figure(figsize=(12,3))\n",
    "ax1 = f.add_subplot(131)\n",
    "ax2 = f.add_subplot(132)\n",
    "ax3 = f.add_subplot(133)\n",
    "\n",
    "ax1.hist(temp_duration_nan, bins, alpha=0.5, density=True, label='nan')\n",
    "ax1.hist(temp_duration_positive, bins, alpha=0.5, density=True, label='Positive')\n",
    "ax1.legend(loc='upper right')\n",
    "\n",
    "ax2.hist(temp_duration_nan, bins, alpha=0.5, density=True, label='nan')\n",
    "ax2.hist(temp_duration_negative, bins, alpha=0.5, density=True, label='negative')\n",
    "ax2.legend(loc='upper right')\n",
    "\n",
    "ax3.hist(temp_duration_negative, bins, alpha=0.5, density=True, label='negative')\n",
    "ax3.hist(temp_duration_positive, bins, alpha=0.5, density=True, label='Positive')\n",
    "ax3.legend(loc='upper right')"
   ]
  },
  {
   "cell_type": "markdown",
   "metadata": {},
   "source": [
    "## <span style=\"color:red\">The distribution of conversation_duration is significantly different for three conversation_results.</span>"
   ]
  },
  {
   "cell_type": "code",
   "execution_count": 66,
   "metadata": {},
   "outputs": [],
   "source": [
    "from sklearn.preprocessing import label_binarize"
   ]
  },
  {
   "cell_type": "code",
   "execution_count": 67,
   "metadata": {},
   "outputs": [],
   "source": [
    "from sklearn.model_selection import KFold\n",
    "from sklearn.metrics import roc_auc_score\n",
    "from sklearn.linear_model import LogisticRegression\n",
    "from sklearn.multiclass import OneVsRestClassifier"
   ]
  },
  {
   "cell_type": "markdown",
   "metadata": {},
   "source": [
    "## Part 2.2 check categorical type features"
   ]
  },
  {
   "cell_type": "markdown",
   "metadata": {},
   "source": [
    "*Use occupation_value for prediction*"
   ]
  },
  {
   "cell_type": "code",
   "execution_count": 68,
   "metadata": {},
   "outputs": [],
   "source": [
    "kf = KFold(n_splits=5)\n",
    "auc_value_list = []"
   ]
  },
  {
   "cell_type": "code",
   "execution_count": 69,
   "metadata": {},
   "outputs": [],
   "source": [
    "y_value = label_binarize(conversation_result2num, classes=[0, 1, 2])"
   ]
  },
  {
   "cell_type": "code",
   "execution_count": 70,
   "metadata": {},
   "outputs": [],
   "source": [
    "n_classes = y_value.shape[1]"
   ]
  },
  {
   "cell_type": "code",
   "execution_count": 71,
   "metadata": {},
   "outputs": [],
   "source": [
    "LR = LogisticRegression()"
   ]
  },
  {
   "cell_type": "code",
   "execution_count": 72,
   "metadata": {},
   "outputs": [],
   "source": [
    "train_raw = occupation_value.copy()"
   ]
  },
  {
   "cell_type": "code",
   "execution_count": 73,
   "metadata": {},
   "outputs": [],
   "source": [
    "classifier = OneVsRestClassifier(LogisticRegression(n_jobs=-1))"
   ]
  },
  {
   "cell_type": "code",
   "execution_count": 74,
   "metadata": {},
   "outputs": [
    {
     "name": "stderr",
     "output_type": "stream",
     "text": [
      "C:\\Anaconda\\lib\\site-packages\\sklearn\\linear_model\\logistic.py:1232: UserWarning: 'n_jobs' > 1 does not have any effect when 'solver' is set to 'liblinear'. Got 'n_jobs' = -1.\n",
      "  \" = {}.\".format(self.n_jobs))\n"
     ]
    }
   ],
   "source": [
    "pred_y_value = np.zeros((y_value.shape[0], y_value.shape[1]))\n",
    "for train_index, valid_index in kf.split(train_raw.iloc[:,:]):\n",
    "    X_train, X_valid = train_raw.iloc[train_index, :], train_raw.iloc[valid_index, :]\n",
    "    y_train, y_valid = y_value[train_index, :], y_value[valid_index, :]\n",
    "    classifier.fit(X_train, y_train)\n",
    "    pred_y_value[valid_index, :] = classifier.predict_proba(X_valid)\n",
    "        \n",
    "for i in range(n_classes):\n",
    "    auc_value_list.append(roc_auc_score(y_value[:,i], pred_y_value[:,i]))"
   ]
  },
  {
   "cell_type": "code",
   "execution_count": 75,
   "metadata": {},
   "outputs": [
    {
     "name": "stdout",
     "output_type": "stream",
     "text": [
      "[0.24315339 0.46244569 0.29440684]\n"
     ]
    }
   ],
   "source": [
    "print(pred_y_value[2,:])"
   ]
  },
  {
   "cell_type": "code",
   "execution_count": 76,
   "metadata": {},
   "outputs": [
    {
     "name": "stdout",
     "output_type": "stream",
     "text": [
      "[0.525271999150851, 0.540682164882007, 0.5122420738771626]\n"
     ]
    }
   ],
   "source": [
    "print(auc_value_list)"
   ]
  },
  {
   "cell_type": "markdown",
   "metadata": {},
   "source": [
    "The prediction based on occupation value is close to random guess value, which is 0.5."
   ]
  },
  {
   "cell_type": "markdown",
   "metadata": {},
   "source": [
    "*use personality_type_value*"
   ]
  },
  {
   "cell_type": "code",
   "execution_count": 77,
   "metadata": {},
   "outputs": [],
   "source": [
    "kf = KFold(n_splits=5)\n",
    "auc_value_list = []\n",
    "train_raw = personality_type_value.copy()\n",
    "classifier = OneVsRestClassifier(LogisticRegression(n_jobs=-1))"
   ]
  },
  {
   "cell_type": "code",
   "execution_count": 78,
   "metadata": {},
   "outputs": [],
   "source": [
    "pred_y_value = np.zeros((y_value.shape[0], y_value.shape[1]))\n",
    "for train_index, valid_index in kf.split(train_raw.iloc[:,:]):\n",
    "    X_train, X_valid = train_raw.iloc[train_index, :], train_raw.iloc[valid_index, :]\n",
    "    y_train, y_valid = y_value[train_index, :], y_value[valid_index, :]\n",
    "    classifier.fit(X_train, y_train)\n",
    "    pred_y_value[valid_index, :] = classifier.predict_proba(X_valid)\n",
    "        \n",
    "for i in range(n_classes):\n",
    "    auc_value_list.append(roc_auc_score(y_value[:,i], pred_y_value[:,i]))"
   ]
  },
  {
   "cell_type": "code",
   "execution_count": 79,
   "metadata": {},
   "outputs": [
    {
     "name": "stdout",
     "output_type": "stream",
     "text": [
      "[0.5138890551329537, 0.5502136054907102, 0.5246035207407727]\n"
     ]
    }
   ],
   "source": [
    "print(auc_value_list)"
   ]
  },
  {
   "cell_type": "markdown",
   "metadata": {},
   "source": [
    "The prediction based on personality_type value is close to random guess value, which is 0.5."
   ]
  },
  {
   "cell_type": "markdown",
   "metadata": {},
   "source": [
    "*use gender value*"
   ]
  },
  {
   "cell_type": "code",
   "execution_count": 80,
   "metadata": {},
   "outputs": [],
   "source": [
    "kf = KFold(n_splits=5)\n",
    "auc_value_list = []\n",
    "train_raw = gender_value.copy()\n",
    "classifier = OneVsRestClassifier(LogisticRegression(n_jobs=-1))"
   ]
  },
  {
   "cell_type": "code",
   "execution_count": 81,
   "metadata": {},
   "outputs": [],
   "source": [
    "pred_y_value = np.zeros((y_value.shape[0], y_value.shape[1]))\n",
    "for train_index, valid_index in kf.split(train_raw.iloc[:,:]):\n",
    "    X_train, X_valid = train_raw.iloc[train_index, :], train_raw.iloc[valid_index, :]\n",
    "    y_train, y_valid = y_value[train_index, :], y_value[valid_index, :]\n",
    "    classifier.fit(X_train, y_train)\n",
    "    pred_y_value[valid_index, :] = classifier.predict_proba(X_valid)\n",
    "        \n",
    "for i in range(n_classes):\n",
    "    auc_value_list.append(roc_auc_score(y_value[:,i], pred_y_value[:,i]))"
   ]
  },
  {
   "cell_type": "code",
   "execution_count": 82,
   "metadata": {},
   "outputs": [
    {
     "name": "stdout",
     "output_type": "stream",
     "text": [
      "[0.46756254576648304, 0.504669800746364, 0.5005538818992489]\n"
     ]
    }
   ],
   "source": [
    "print(auc_value_list)"
   ]
  },
  {
   "cell_type": "markdown",
   "metadata": {},
   "source": [
    "Use gender value for prediction, very close to random guess."
   ]
  },
  {
   "cell_type": "markdown",
   "metadata": {},
   "source": [
    "*use thinking_traps value*"
   ]
  },
  {
   "cell_type": "code",
   "execution_count": 83,
   "metadata": {},
   "outputs": [],
   "source": [
    "kf = KFold(n_splits=5)\n",
    "auc_value_list = []\n",
    "train_raw = temp_thinking_traps.copy()\n",
    "classifier = OneVsRestClassifier(LogisticRegression(n_jobs=-1))"
   ]
  },
  {
   "cell_type": "code",
   "execution_count": 84,
   "metadata": {},
   "outputs": [],
   "source": [
    "pred_y_value = np.zeros((y_value.shape[0], y_value.shape[1]))\n",
    "for train_index, valid_index in kf.split(train_raw.iloc[:,:]):\n",
    "    X_train, X_valid = train_raw.iloc[train_index, :], train_raw.iloc[valid_index, :]\n",
    "    y_train, y_valid = y_value[train_index, :], y_value[valid_index, :]\n",
    "    classifier.fit(X_train, y_train)\n",
    "    pred_y_value[valid_index, :] = classifier.predict_proba(X_valid)\n",
    "        \n",
    "for i in range(n_classes):\n",
    "    auc_value_list.append(roc_auc_score(y_value[:,i], pred_y_value[:,i]))"
   ]
  },
  {
   "cell_type": "code",
   "execution_count": 85,
   "metadata": {},
   "outputs": [
    {
     "name": "stdout",
     "output_type": "stream",
     "text": [
      "[0.621144221903642, 0.6211912145122213, 0.5079764041384575]\n"
     ]
    }
   ],
   "source": [
    "print(auc_value_list)"
   ]
  },
  {
   "cell_type": "markdown",
   "metadata": {},
   "source": [
    "thinking_traps has some effect on conversation_result."
   ]
  },
  {
   "cell_type": "markdown",
   "metadata": {},
   "source": [
    "*use factors value*"
   ]
  },
  {
   "cell_type": "code",
   "execution_count": 86,
   "metadata": {},
   "outputs": [],
   "source": [
    "kf = KFold(n_splits=5)\n",
    "auc_value_list = []\n",
    "train_raw = temp_factors.copy()\n",
    "classifier = OneVsRestClassifier(LogisticRegression(n_jobs=-1))"
   ]
  },
  {
   "cell_type": "code",
   "execution_count": 87,
   "metadata": {},
   "outputs": [],
   "source": [
    "pred_y_value = np.zeros((y_value.shape[0], y_value.shape[1]))\n",
    "for train_index, valid_index in kf.split(train_raw.iloc[:,:]):\n",
    "    X_train, X_valid = train_raw.iloc[train_index, :], train_raw.iloc[valid_index, :]\n",
    "    y_train, y_valid = y_value[train_index, :], y_value[valid_index, :]\n",
    "    classifier.fit(X_train, y_train)\n",
    "    pred_y_value[valid_index, :] = classifier.predict_proba(X_valid)\n",
    "        \n",
    "for i in range(n_classes):\n",
    "    auc_value_list.append(roc_auc_score(y_value[:,i], pred_y_value[:,i]))"
   ]
  },
  {
   "cell_type": "code",
   "execution_count": 88,
   "metadata": {},
   "outputs": [
    {
     "name": "stdout",
     "output_type": "stream",
     "text": [
      "[0.6030263560685437, 0.5910066429491164, 0.5648347824137204]\n"
     ]
    }
   ],
   "source": [
    "print(auc_value_list)"
   ]
  },
  {
   "cell_type": "markdown",
   "metadata": {},
   "source": [
    "factors has some effect on conversation_result."
   ]
  },
  {
   "cell_type": "markdown",
   "metadata": {},
   "source": [
    "### emotion and emotion_level are closely related. "
   ]
  },
  {
   "cell_type": "code",
   "execution_count": 89,
   "metadata": {},
   "outputs": [],
   "source": [
    "df_temp = pd.concat([emotion_value, df_remove_no_user[['emotion_level']]], axis=1)"
   ]
  },
  {
   "cell_type": "code",
   "execution_count": 90,
   "metadata": {},
   "outputs": [
    {
     "data": {
      "text/html": [
       "<div>\n",
       "<style scoped>\n",
       "    .dataframe tbody tr th:only-of-type {\n",
       "        vertical-align: middle;\n",
       "    }\n",
       "\n",
       "    .dataframe tbody tr th {\n",
       "        vertical-align: top;\n",
       "    }\n",
       "\n",
       "    .dataframe thead th {\n",
       "        text-align: right;\n",
       "    }\n",
       "</style>\n",
       "<table border=\"1\" class=\"dataframe\">\n",
       "  <thead>\n",
       "    <tr style=\"text-align: right;\">\n",
       "      <th></th>\n",
       "      <th>anger</th>\n",
       "      <th>anxiety</th>\n",
       "      <th>boredom</th>\n",
       "      <th>depression</th>\n",
       "      <th>disgust</th>\n",
       "      <th>envy</th>\n",
       "      <th>fear</th>\n",
       "      <th>frustration</th>\n",
       "      <th>insecurity</th>\n",
       "      <th>numbness</th>\n",
       "      <th>sadness</th>\n",
       "      <th>shame</th>\n",
       "      <th>stress</th>\n",
       "      <th>tiredness</th>\n",
       "      <th>emotion_level</th>\n",
       "    </tr>\n",
       "  </thead>\n",
       "  <tbody>\n",
       "    <tr>\n",
       "      <th>0</th>\n",
       "      <td>0</td>\n",
       "      <td>0</td>\n",
       "      <td>0</td>\n",
       "      <td>0</td>\n",
       "      <td>0</td>\n",
       "      <td>0</td>\n",
       "      <td>0</td>\n",
       "      <td>0</td>\n",
       "      <td>0</td>\n",
       "      <td>0</td>\n",
       "      <td>0</td>\n",
       "      <td>0</td>\n",
       "      <td>0</td>\n",
       "      <td>1</td>\n",
       "      <td>60</td>\n",
       "    </tr>\n",
       "    <tr>\n",
       "      <th>1</th>\n",
       "      <td>0</td>\n",
       "      <td>0</td>\n",
       "      <td>0</td>\n",
       "      <td>1</td>\n",
       "      <td>0</td>\n",
       "      <td>0</td>\n",
       "      <td>0</td>\n",
       "      <td>0</td>\n",
       "      <td>0</td>\n",
       "      <td>0</td>\n",
       "      <td>0</td>\n",
       "      <td>0</td>\n",
       "      <td>0</td>\n",
       "      <td>0</td>\n",
       "      <td>100</td>\n",
       "    </tr>\n",
       "    <tr>\n",
       "      <th>2</th>\n",
       "      <td>0</td>\n",
       "      <td>0</td>\n",
       "      <td>0</td>\n",
       "      <td>0</td>\n",
       "      <td>0</td>\n",
       "      <td>0</td>\n",
       "      <td>0</td>\n",
       "      <td>0</td>\n",
       "      <td>1</td>\n",
       "      <td>0</td>\n",
       "      <td>0</td>\n",
       "      <td>0</td>\n",
       "      <td>0</td>\n",
       "      <td>0</td>\n",
       "      <td>50</td>\n",
       "    </tr>\n",
       "    <tr>\n",
       "      <th>3</th>\n",
       "      <td>0</td>\n",
       "      <td>0</td>\n",
       "      <td>0</td>\n",
       "      <td>0</td>\n",
       "      <td>0</td>\n",
       "      <td>0</td>\n",
       "      <td>0</td>\n",
       "      <td>0</td>\n",
       "      <td>0</td>\n",
       "      <td>0</td>\n",
       "      <td>0</td>\n",
       "      <td>0</td>\n",
       "      <td>0</td>\n",
       "      <td>1</td>\n",
       "      <td>75</td>\n",
       "    </tr>\n",
       "    <tr>\n",
       "      <th>4</th>\n",
       "      <td>0</td>\n",
       "      <td>0</td>\n",
       "      <td>0</td>\n",
       "      <td>0</td>\n",
       "      <td>0</td>\n",
       "      <td>0</td>\n",
       "      <td>0</td>\n",
       "      <td>0</td>\n",
       "      <td>0</td>\n",
       "      <td>0</td>\n",
       "      <td>0</td>\n",
       "      <td>0</td>\n",
       "      <td>1</td>\n",
       "      <td>0</td>\n",
       "      <td>90</td>\n",
       "    </tr>\n",
       "  </tbody>\n",
       "</table>\n",
       "</div>"
      ],
      "text/plain": [
       "   anger  anxiety  boredom  depression  disgust  envy  fear  frustration  \\\n",
       "0      0        0        0           0        0     0     0            0   \n",
       "1      0        0        0           1        0     0     0            0   \n",
       "2      0        0        0           0        0     0     0            0   \n",
       "3      0        0        0           0        0     0     0            0   \n",
       "4      0        0        0           0        0     0     0            0   \n",
       "\n",
       "   insecurity  numbness  sadness  shame  stress  tiredness  emotion_level  \n",
       "0           0         0        0      0       0          1             60  \n",
       "1           0         0        0      0       0          0            100  \n",
       "2           1         0        0      0       0          0             50  \n",
       "3           0         0        0      0       0          1             75  \n",
       "4           0         0        0      0       1          0             90  "
      ]
     },
     "execution_count": 90,
     "metadata": {},
     "output_type": "execute_result"
    }
   ],
   "source": [
    "df_temp.head()"
   ]
  },
  {
   "cell_type": "code",
   "execution_count": 98,
   "metadata": {},
   "outputs": [],
   "source": [
    "kf = KFold(n_splits=5)\n",
    "auc_value_list = []\n",
    "train_raw = df_temp.copy()\n",
    "classifier = OneVsRestClassifier(LogisticRegression(n_jobs=-1))"
   ]
  },
  {
   "cell_type": "code",
   "execution_count": 99,
   "metadata": {},
   "outputs": [],
   "source": [
    "pred_y_value = np.zeros((y_value.shape[0], y_value.shape[1]))\n",
    "for train_index, valid_index in kf.split(train_raw.iloc[:,:]):\n",
    "    X_train, X_valid = train_raw.iloc[train_index, :], train_raw.iloc[valid_index, :]\n",
    "    y_train, y_valid = y_value[train_index, :], y_value[valid_index, :]\n",
    "    classifier.fit(X_train, y_train)\n",
    "    pred_y_value[valid_index, :] = classifier.predict_proba(X_valid)\n",
    "        \n",
    "for i in range(n_classes):\n",
    "    auc_value_list.append(roc_auc_score(y_value[:,i], pred_y_value[:,i]))"
   ]
  },
  {
   "cell_type": "code",
   "execution_count": 100,
   "metadata": {},
   "outputs": [
    {
     "name": "stdout",
     "output_type": "stream",
     "text": [
      "[0.6009024891568723, 0.6129733515793547, 0.6169923690046916]\n"
     ]
    }
   ],
   "source": [
    "print(auc_value_list)"
   ]
  },
  {
   "cell_type": "markdown",
   "metadata": {},
   "source": [
    "As we can see, emotion and emotion level they collectively affect the conversaion result."
   ]
  },
  {
   "cell_type": "markdown",
   "metadata": {},
   "source": [
    "## Part 3 Build the model"
   ]
  },
  {
   "cell_type": "markdown",
   "metadata": {},
   "source": [
    "## Based on the analysis above,  I will use thinking_traps, factors, emtion, emtion_levels, and conversation_duration as features to predict conversation_result. "
   ]
  },
  {
   "cell_type": "code",
   "execution_count": 105,
   "metadata": {},
   "outputs": [],
   "source": [
    "df_temp = pd.concat([temp_thinking_traps, temp_factors, emotion_value, \n",
    "                     df_remove_no_user[['emotion_level']], df_remove_no_user[['conversation_duration']]], axis=1)"
   ]
  },
  {
   "cell_type": "code",
   "execution_count": 106,
   "metadata": {},
   "outputs": [
    {
     "data": {
      "text/html": [
       "<div>\n",
       "<style scoped>\n",
       "    .dataframe tbody tr th:only-of-type {\n",
       "        vertical-align: middle;\n",
       "    }\n",
       "\n",
       "    .dataframe tbody tr th {\n",
       "        vertical-align: top;\n",
       "    }\n",
       "\n",
       "    .dataframe thead th {\n",
       "        text-align: right;\n",
       "    }\n",
       "</style>\n",
       "<table border=\"1\" class=\"dataframe\">\n",
       "  <thead>\n",
       "    <tr style=\"text-align: right;\">\n",
       "      <th></th>\n",
       "      <th>All-or-Nothing Thinking</th>\n",
       "      <th>Blaming</th>\n",
       "      <th>Catastrophic Thinking</th>\n",
       "      <th>Fortune Telling</th>\n",
       "      <th>Labeling</th>\n",
       "      <th>Mind Reading</th>\n",
       "      <th>Negative Glasses</th>\n",
       "      <th>Negative Memory</th>\n",
       "      <th>Not Accepting</th>\n",
       "      <th>Overgeneralization</th>\n",
       "      <th>...</th>\n",
       "      <th>fear</th>\n",
       "      <th>frustration</th>\n",
       "      <th>insecurity</th>\n",
       "      <th>numbness</th>\n",
       "      <th>sadness</th>\n",
       "      <th>shame</th>\n",
       "      <th>stress</th>\n",
       "      <th>tiredness</th>\n",
       "      <th>emotion_level</th>\n",
       "      <th>conversation_duration</th>\n",
       "    </tr>\n",
       "  </thead>\n",
       "  <tbody>\n",
       "    <tr>\n",
       "      <th>0</th>\n",
       "      <td>0</td>\n",
       "      <td>0</td>\n",
       "      <td>0</td>\n",
       "      <td>0</td>\n",
       "      <td>0</td>\n",
       "      <td>0</td>\n",
       "      <td>0</td>\n",
       "      <td>0</td>\n",
       "      <td>0</td>\n",
       "      <td>0</td>\n",
       "      <td>...</td>\n",
       "      <td>0</td>\n",
       "      <td>0</td>\n",
       "      <td>0</td>\n",
       "      <td>0</td>\n",
       "      <td>0</td>\n",
       "      <td>0</td>\n",
       "      <td>0</td>\n",
       "      <td>1</td>\n",
       "      <td>60</td>\n",
       "      <td>426</td>\n",
       "    </tr>\n",
       "    <tr>\n",
       "      <th>1</th>\n",
       "      <td>0</td>\n",
       "      <td>0</td>\n",
       "      <td>0</td>\n",
       "      <td>0</td>\n",
       "      <td>0</td>\n",
       "      <td>0</td>\n",
       "      <td>0</td>\n",
       "      <td>0</td>\n",
       "      <td>0</td>\n",
       "      <td>0</td>\n",
       "      <td>...</td>\n",
       "      <td>0</td>\n",
       "      <td>0</td>\n",
       "      <td>0</td>\n",
       "      <td>0</td>\n",
       "      <td>0</td>\n",
       "      <td>0</td>\n",
       "      <td>0</td>\n",
       "      <td>0</td>\n",
       "      <td>100</td>\n",
       "      <td>521</td>\n",
       "    </tr>\n",
       "    <tr>\n",
       "      <th>2</th>\n",
       "      <td>0</td>\n",
       "      <td>0</td>\n",
       "      <td>0</td>\n",
       "      <td>0</td>\n",
       "      <td>1</td>\n",
       "      <td>1</td>\n",
       "      <td>1</td>\n",
       "      <td>0</td>\n",
       "      <td>1</td>\n",
       "      <td>1</td>\n",
       "      <td>...</td>\n",
       "      <td>0</td>\n",
       "      <td>0</td>\n",
       "      <td>1</td>\n",
       "      <td>0</td>\n",
       "      <td>0</td>\n",
       "      <td>0</td>\n",
       "      <td>0</td>\n",
       "      <td>0</td>\n",
       "      <td>50</td>\n",
       "      <td>805</td>\n",
       "    </tr>\n",
       "    <tr>\n",
       "      <th>3</th>\n",
       "      <td>0</td>\n",
       "      <td>0</td>\n",
       "      <td>0</td>\n",
       "      <td>0</td>\n",
       "      <td>0</td>\n",
       "      <td>0</td>\n",
       "      <td>0</td>\n",
       "      <td>0</td>\n",
       "      <td>0</td>\n",
       "      <td>0</td>\n",
       "      <td>...</td>\n",
       "      <td>0</td>\n",
       "      <td>0</td>\n",
       "      <td>0</td>\n",
       "      <td>0</td>\n",
       "      <td>0</td>\n",
       "      <td>0</td>\n",
       "      <td>0</td>\n",
       "      <td>1</td>\n",
       "      <td>75</td>\n",
       "      <td>392</td>\n",
       "    </tr>\n",
       "    <tr>\n",
       "      <th>4</th>\n",
       "      <td>0</td>\n",
       "      <td>1</td>\n",
       "      <td>1</td>\n",
       "      <td>0</td>\n",
       "      <td>1</td>\n",
       "      <td>1</td>\n",
       "      <td>0</td>\n",
       "      <td>1</td>\n",
       "      <td>0</td>\n",
       "      <td>0</td>\n",
       "      <td>...</td>\n",
       "      <td>0</td>\n",
       "      <td>0</td>\n",
       "      <td>0</td>\n",
       "      <td>0</td>\n",
       "      <td>0</td>\n",
       "      <td>0</td>\n",
       "      <td>1</td>\n",
       "      <td>0</td>\n",
       "      <td>90</td>\n",
       "      <td>562</td>\n",
       "    </tr>\n",
       "  </tbody>\n",
       "</table>\n",
       "<p>5 rows × 75 columns</p>\n",
       "</div>"
      ],
      "text/plain": [
       "   All-or-Nothing Thinking  Blaming  Catastrophic Thinking  Fortune Telling  \\\n",
       "0                        0        0                      0                0   \n",
       "1                        0        0                      0                0   \n",
       "2                        0        0                      0                0   \n",
       "3                        0        0                      0                0   \n",
       "4                        0        1                      1                0   \n",
       "\n",
       "   Labeling  Mind Reading  Negative Glasses  Negative Memory  Not Accepting  \\\n",
       "0         0             0                 0                0              0   \n",
       "1         0             0                 0                0              0   \n",
       "2         1             1                 1                0              1   \n",
       "3         0             0                 0                0              0   \n",
       "4         1             1                 0                1              0   \n",
       "\n",
       "   Overgeneralization          ...            fear  frustration  insecurity  \\\n",
       "0                   0          ...               0            0           0   \n",
       "1                   0          ...               0            0           0   \n",
       "2                   1          ...               0            0           1   \n",
       "3                   0          ...               0            0           0   \n",
       "4                   0          ...               0            0           0   \n",
       "\n",
       "   numbness  sadness  shame  stress  tiredness  emotion_level  \\\n",
       "0         0        0      0       0          1             60   \n",
       "1         0        0      0       0          0            100   \n",
       "2         0        0      0       0          0             50   \n",
       "3         0        0      0       0          1             75   \n",
       "4         0        0      0       1          0             90   \n",
       "\n",
       "   conversation_duration  \n",
       "0                    426  \n",
       "1                    521  \n",
       "2                    805  \n",
       "3                    392  \n",
       "4                    562  \n",
       "\n",
       "[5 rows x 75 columns]"
      ]
     },
     "execution_count": 106,
     "metadata": {},
     "output_type": "execute_result"
    }
   ],
   "source": [
    "df_temp.head()"
   ]
  },
  {
   "cell_type": "markdown",
   "metadata": {},
   "source": [
    "## 3.1 Use RandomForestClassifier"
   ]
  },
  {
   "cell_type": "code",
   "execution_count": 110,
   "metadata": {},
   "outputs": [],
   "source": [
    "from sklearn.ensemble import RandomForestClassifier\n",
    "from sklearn.metrics import accuracy_score"
   ]
  },
  {
   "cell_type": "markdown",
   "metadata": {},
   "source": [
    "change the column name here."
   ]
  },
  {
   "cell_type": "code",
   "execution_count": 111,
   "metadata": {},
   "outputs": [],
   "source": [
    "train_raw = df_temp.copy()\n",
    "y_value = conversation_result2num.conversation_reslt2num"
   ]
  },
  {
   "cell_type": "code",
   "execution_count": 112,
   "metadata": {},
   "outputs": [],
   "source": [
    "kf = KFold(n_splits=5)\n",
    "accuracy_score_list = []\n",
    "n_estimators_list = range(20,400,30)\n",
    "for n_estimator_value in n_estimators_list:\n",
    "    pred_y_value= np.zeros(len(y_value))\n",
    "    model = RandomForestClassifier(random_state=299, n_estimators=n_estimator_value, n_jobs=-1)\n",
    "    for train_index, valid_index in kf.split(train_raw.iloc[:,:]):\n",
    "        X_train, X_valid = train_raw.iloc[train_index, :], train_raw.iloc[valid_index,:]\n",
    "        y_train, y_valid = y_value[train_index], y_value[valid_index]\n",
    "        model.fit(X_train, y_train)\n",
    "        pred_y_value[valid_index] = model.predict(X_valid)\n",
    "    accuracy_score_list.append(accuracy_score(y_value, pred_y_value))"
   ]
  },
  {
   "cell_type": "code",
   "execution_count": 113,
   "metadata": {},
   "outputs": [
    {
     "data": {
      "text/plain": [
       "Text(0.5,1,'accuracy score as a function of n_estimators')"
      ]
     },
     "execution_count": 113,
     "metadata": {},
     "output_type": "execute_result"
    },
    {
     "data": {
      "image/png": "[encoded data removed]",
      "text/plain": [
       "<Figure size 432x288 with 1 Axes>"
      ]
     },
     "metadata": {
      "needs_background": "light"
     },
     "output_type": "display_data"
    }
   ],
   "source": [
    "plt.plot(n_estimators_list, accuracy_score_list)\n",
    "plt.xlabel('n_estimators')\n",
    "plt.ylabel('accuracy score')\n",
    "plt.title('accuracy score as a function of n_estimators')"
   ]
  },
  {
   "cell_type": "markdown",
   "metadata": {},
   "source": [
    "pick n_estimators = 150"
   ]
  },
  {
   "cell_type": "code",
   "execution_count": 114,
   "metadata": {},
   "outputs": [
    {
     "data": {
      "text/plain": [
       "RandomForestClassifier(bootstrap=True, class_weight=None, criterion='gini',\n",
       "            max_depth=None, max_features='auto', max_leaf_nodes=None,\n",
       "            min_impurity_decrease=0.0, min_impurity_split=None,\n",
       "            min_samples_leaf=1, min_samples_split=2,\n",
       "            min_weight_fraction_leaf=0.0, n_estimators=150, n_jobs=-1,\n",
       "            oob_score=False, random_state=299, verbose=0, warm_start=False)"
      ]
     },
     "execution_count": 114,
     "metadata": {},
     "output_type": "execute_result"
    }
   ],
   "source": [
    "model = RandomForestClassifier(random_state=299, n_estimators=150, n_jobs=-1)\n",
    "model.fit(train_raw, y_value)"
   ]
  },
  {
   "cell_type": "code",
   "execution_count": 116,
   "metadata": {},
   "outputs": [
    {
     "data": {
      "text/plain": [
       "list"
      ]
     },
     "execution_count": 116,
     "metadata": {},
     "output_type": "execute_result"
    }
   ],
   "source": [
    "feature_list = list(train_raw.columns)\n",
    "type(feature_list)"
   ]
  },
  {
   "cell_type": "code",
   "execution_count": 117,
   "metadata": {},
   "outputs": [
    {
     "name": "stdout",
     "output_type": "stream",
     "text": [
      "['All-or-Nothing Thinking', 'Blaming', 'Catastrophic Thinking', 'Fortune Telling', 'Labeling', 'Mind Reading', 'Negative Glasses', 'Negative Memory', 'Not Accepting', 'Overgeneralization', 'Perfectionism', 'Personalization', 'Should Thinking', 'What if Loop', 'empty', 'Alcohol', 'Bad Sleep', 'Being by myself', 'Binging', 'Books', 'Caffeine', 'Colleagues', 'Date', 'Dieting', 'Exercise', 'Family', 'Finances', 'Friends', 'Gaming', 'Good Sleep', 'Great meal', 'Health', 'Home', 'Insomnia', 'Junk food', 'Marijuana', 'Meat', 'Movies', 'Music', 'News', 'Online Videos', 'Outdoor', 'Outdoors', 'Pain', 'Partner', 'Period', 'Pre period', 'School', 'Sedentary', 'Shopping', 'Social Media', 'Socializing', 'Sports', 'Tobacco', 'Travel', 'Veggie', 'Weight', 'Work', 'empty', 'anger', 'anxiety', 'boredom', 'depression', 'disgust', 'envy', 'fear', 'frustration', 'insecurity', 'numbness', 'sadness', 'shame', 'stress', 'tiredness', 'emotion_level', 'conversation_duration']\n"
     ]
    }
   ],
   "source": [
    "print(feature_list)"
   ]
  },
  {
   "cell_type": "code",
   "execution_count": 126,
   "metadata": {},
   "outputs": [],
   "source": [
    "def plot_feature_importance(model, feature_list):\n",
    "    '''\n",
    "    :type model: random forest tree model after fitting\n",
    "    :type feature_list: list\n",
    "    '''\n",
    "    \n",
    "    \n",
    "    \n",
    "    importance_pair = list(zip(feature_list, model.feature_importances_))\n",
    "    \n",
    "\n",
    "    importance_pair = sorted(importance_pair, key= lambda x: x[1])\n",
    "    importance_pair = np.array(importance_pair)\n",
    "\n",
    "    fig, ax = plt.subplots(figsize=(6, 25))\n",
    "    #ax.xaxis.set_major_formatter(FormatStrFormatter('%.3f'))\n",
    "    rects1 = ax.barh(importance_pair[:,0], importance_pair[:,1])\n",
    "    ax.set_xlabel('Importance value')\n",
    "    ax.set_title('Feature importance plot')\n",
    "    ax.set_xticks([])  #test\n",
    "    plt.xticks(rotation=90)"
   ]
  },
  {
   "cell_type": "code",
   "execution_count": 127,
   "metadata": {},
   "outputs": [
    {
     "data": {
      "image/png": "[encoded data removed]",
      "text/plain": [
       "<Figure size 432x1800 with 1 Axes>"
      ]
     },
     "metadata": {
      "needs_background": "light"
     },
     "output_type": "display_data"
    }
   ],
   "source": [
    "plot_feature_importance(model, feature_list)"
   ]
  },
  {
   "cell_type": "code",
   "execution_count": 128,
   "metadata": {},
   "outputs": [
    {
     "name": "stdout",
     "output_type": "stream",
     "text": [
      "Index([u'Alcohol', u'Bad Sleep', u'Being by myself', u'Binging', u'Books',\n",
      "       u'Caffeine', u'Colleagues', u'Date', u'Dieting', u'Exercise', u'Family',\n",
      "       u'Finances', u'Friends', u'Gaming', u'Good Sleep', u'Great meal',\n",
      "       u'Health', u'Home', u'Insomnia', u'Junk food', u'Marijuana', u'Meat',\n",
      "       u'Movies', u'Music', u'News', u'Online Videos', u'Outdoor', u'Outdoors',\n",
      "       u'Pain', u'Partner', u'Period', u'Pre period', u'School', u'Sedentary',\n",
      "       u'Shopping', u'Social Media', u'Socializing', u'Sports', u'Tobacco',\n",
      "       u'Travel', u'Veggie', u'Weight', u'Work', u'empty'],\n",
      "      dtype='object')\n"
     ]
    }
   ],
   "source": [
    "print(temp_factors.columns)"
   ]
  },
  {
   "cell_type": "markdown",
   "metadata": {},
   "source": [
    "## 3.2 Analyze the results"
   ]
  },
  {
   "cell_type": "markdown",
   "metadata": {},
   "source": [
    "## Based on the feature of importance plot, the top 10 are: conversation_duration, emotion_level, School (factors), Bad sleep (factor), depression (emotion), Family(factor), Socializing(factor), Work(factor), Home(factor), and Being myself(factor).  "
   ]
  },
  {
   "cell_type": "markdown",
   "metadata": {},
   "source": [
    "## Question 1.<span style=\"color:blue\">What variables influence the Conversation Result to generate a positive outcome? How would you measure the impact of each variable on the result? What hypotheses can you extract from this analysis and what experiments would you suggest to increase the likelihood of positive conversation results?</span>"
   ]
  },
  {
   "cell_type": "markdown",
   "metadata": {},
   "source": [
    "## Although based on feature of importance, the top 10 features include conversation_duration, emotion_level,  which should be combined with emotion, and 8 from factor, only conversation_duration is independent of user's personal information. <span style=\"color:red\">Increasing the conversation_duration is the way the app can do to increase positive conversation results.</span> "
   ]
  },
  {
   "cell_type": "markdown",
   "metadata": {},
   "source": [
    "## The experiments I suggest is \n",
    "## 1. Adding more content in the app so that the user can use longer time on the app\n",
    "## 2. Have more personalized content, so for user with different personality (different factor, emotion, thinking_traps) will enjoy the content they see, have more interaction with the app."
   ]
  },
  {
   "cell_type": "markdown",
   "metadata": {},
   "source": [
    "## Question 2. <span style=\"color:blue\">Build a supervised learning model to predict the Conversation Result. Present a way to evaluate this model</span>"
   ]
  },
  {
   "cell_type": "code",
   "execution_count": 132,
   "metadata": {},
   "outputs": [],
   "source": [
    "kf = KFold(n_splits=5)\n",
    "auc_value_list = []"
   ]
  },
  {
   "cell_type": "code",
   "execution_count": 133,
   "metadata": {},
   "outputs": [],
   "source": [
    "y_value = label_binarize(conversation_result2num, classes=[0, 1, 2])\n",
    "n_classes = y_value.shape[1]"
   ]
  },
  {
   "cell_type": "code",
   "execution_count": 134,
   "metadata": {},
   "outputs": [],
   "source": [
    "classifier = OneVsRestClassifier(LogisticRegression(n_jobs=-1))"
   ]
  },
  {
   "cell_type": "code",
   "execution_count": 135,
   "metadata": {},
   "outputs": [],
   "source": [
    "pred_y_value = np.zeros((y_value.shape[0], y_value.shape[1]))\n",
    "for train_index, valid_index in kf.split(train_raw.iloc[:,:]):\n",
    "    X_train, X_valid = train_raw.iloc[train_index, :], train_raw.iloc[valid_index, :]\n",
    "    y_train, y_valid = y_value[train_index, :], y_value[valid_index, :]\n",
    "    classifier.fit(X_train, y_train)\n",
    "    pred_y_value[valid_index, :] = classifier.predict_proba(X_valid)\n",
    "        \n",
    "for i in range(n_classes):\n",
    "    auc_value_list.append(roc_auc_score(y_value[:,i], pred_y_value[:,i]))"
   ]
  },
  {
   "cell_type": "code",
   "execution_count": 136,
   "metadata": {},
   "outputs": [
    {
     "name": "stdout",
     "output_type": "stream",
     "text": [
      "[0.7066052487847554, 0.7052567610321866, 0.6374388013180945]\n"
     ]
    }
   ],
   "source": [
    "print(auc_value_list)"
   ]
  },
  {
   "cell_type": "markdown",
   "metadata": {},
   "source": [
    "## This is one vs all model, for conversation_result, the 1st item in the auc_value_list is NaN vs others; the 2nd item is Positive vs others; and the 3rd item is Negative vs others."
   ]
  },
  {
   "cell_type": "markdown",
   "metadata": {},
   "source": [
    "## I use auc to evaluate this model."
   ]
  },
  {
   "cell_type": "markdown",
   "metadata": {},
   "source": [
    "## Part 4 user’s engagement with the app"
   ]
  },
  {
   "cell_type": "code",
   "execution_count": 138,
   "metadata": {},
   "outputs": [
    {
     "data": {
      "text/plain": [
       "109023"
      ]
     },
     "execution_count": 138,
     "metadata": {},
     "output_type": "execute_result"
    }
   ],
   "source": [
    "sum(pd.isnull(df_remove_no_user.daily_notification))"
   ]
  },
  {
   "cell_type": "code",
   "execution_count": 140,
   "metadata": {},
   "outputs": [
    {
     "name": "stdout",
     "output_type": "stream",
     "text": [
      "(159156, 17)\n"
     ]
    }
   ],
   "source": [
    "print(df_remove_no_user.shape)"
   ]
  },
  {
   "cell_type": "markdown",
   "metadata": {},
   "source": [
    "### I will use conversation_duration to measure the user's engagement with the app. The longer the time, the more engaged of the user. "
   ]
  },
  {
   "cell_type": "markdown",
   "metadata": {},
   "source": [
    "Based on previous calculation, 97% of users has conversation_duration time between 0 and 3600.  I will only consider the conversation_duration in the range."
   ]
  },
  {
   "cell_type": "code",
   "execution_count": 142,
   "metadata": {},
   "outputs": [],
   "source": [
    "df_temp = df_remove_no_user[(df_remove_no_user.conversation_duration>0) \n",
    "                            &(df_remove_no_user.conversation_duration<3600)]\n",
    "df_temp.reset_index(drop=True, inplace=True)"
   ]
  },
  {
   "cell_type": "code",
   "execution_count": 143,
   "metadata": {},
   "outputs": [
    {
     "data": {
      "text/plain": [
       "Text(0,0.5,'conversation_duration')"
      ]
     },
     "execution_count": 143,
     "metadata": {},
     "output_type": "execute_result"
    },
    {
     "data": {
      "image/png": "[encoded data removed]",
      "text/plain": [
       "<Figure size 432x288 with 1 Axes>"
      ]
     },
     "metadata": {
      "needs_background": "light"
     },
     "output_type": "display_data"
    }
   ],
   "source": [
    "plt.scatter(df_temp.age, df_temp.conversation_duration, alpha=0.5)\n",
    "plt.xlabel('age')\n",
    "plt.ylabel('conversation_duration')"
   ]
  },
  {
   "cell_type": "markdown",
   "metadata": {},
   "source": [
    "## For users younger than 40, they have higher chance to have longer conversation."
   ]
  },
  {
   "cell_type": "code",
   "execution_count": 144,
   "metadata": {},
   "outputs": [],
   "source": [
    "duration_male = df_temp[df_temp.gender == 'male'].conversation_duration\n",
    "duration_male.reset_index(drop=True, inplace=True)"
   ]
  },
  {
   "cell_type": "code",
   "execution_count": 145,
   "metadata": {},
   "outputs": [],
   "source": [
    "duration_female = df_temp[df_temp.gender == 'female'].conversation_duration\n",
    "duration_female.reset_index(drop=True, inplace=True)"
   ]
  },
  {
   "cell_type": "code",
   "execution_count": 149,
   "metadata": {},
   "outputs": [
    {
     "data": {
      "image/png": "[encoded data removed]",
      "text/plain": [
       "<Figure size 432x288 with 1 Axes>"
      ]
     },
     "metadata": {
      "needs_background": "light"
     },
     "output_type": "display_data"
    }
   ],
   "source": [
    "bins = np.linspace(0, 3600, 50)\n",
    "\n",
    "plt.hist(duration_male, bins, density=True, alpha=0.5, label='male')\n",
    "plt.hist(duration_female, bins, density=True, alpha=0.5, label='female')\n",
    "plt.legend(loc='upper right')\n",
    "plt.show()"
   ]
  },
  {
   "cell_type": "markdown",
   "metadata": {},
   "source": [
    "## The gender has little effect on converation_duration. "
   ]
  },
  {
   "cell_type": "code",
   "execution_count": 150,
   "metadata": {},
   "outputs": [],
   "source": [
    "temp_transformer = Dummy_Transformer()\n",
    "emotion_value1 = temp_transformer.fit_transform(df_temp.emotion)\n",
    "\n",
    "temp_transformer = Dummy_Transformer()\n",
    "occupation_value1 = temp_transformer.fit_transform(df_temp.occupation)\n",
    "\n",
    "temp_transformer = Dummy_Transformer()\n",
    "personality_type_value1 = temp_transformer.fit_transform(df_temp.personality_type)"
   ]
  },
  {
   "cell_type": "code",
   "execution_count": 151,
   "metadata": {},
   "outputs": [],
   "source": [
    "from sklearn.ensemble import RandomForestRegressor"
   ]
  },
  {
   "cell_type": "code",
   "execution_count": 152,
   "metadata": {},
   "outputs": [],
   "source": [
    "RF_regressor = RandomForestRegressor()"
   ]
  },
  {
   "cell_type": "code",
   "execution_count": 154,
   "metadata": {},
   "outputs": [],
   "source": [
    "from sklearn.metrics import mean_squared_error, r2_score"
   ]
  },
  {
   "cell_type": "code",
   "execution_count": 155,
   "metadata": {},
   "outputs": [
    {
     "name": "stdout",
     "output_type": "stream",
     "text": [
      "mean square error is:  259681.256145\n",
      "r2 score value is: 0.012767\n"
     ]
    }
   ],
   "source": [
    "mse = []\n",
    "r2_score_value = []\n",
    "train_raw = emotion_value1\n",
    "y_value = df_temp.conversation_duration.copy()\n",
    "pred_y_value= np.zeros(len(y_value))\n",
    "model = RandomForestRegressor(random_state =299, \n",
    "                              n_estimators=200,\n",
    "                              n_jobs=-1)\n",
    "for train_index, valid_index in kf.split(train_raw.iloc[:,:]):\n",
    "    X_train, X_valid = train_raw.iloc[train_index, :], train_raw.iloc[valid_index,:]\n",
    "    y_train, y_valid = y_value[train_index], y_value[valid_index]\n",
    "    model.fit(X_train, y_train)\n",
    "    pred_y_value[valid_index] = model.predict(X_valid)\n",
    "mse.append(mean_squared_error(y_value, pred_y_value))\n",
    "r2_score_value.append(r2_score(y_value, pred_y_value))\n",
    "print('mean square error is: {0: f}'.format(mse[0]))\n",
    "print('r2 score value is: {0:f}'.format(r2_score_value[0]))"
   ]
  },
  {
   "cell_type": "markdown",
   "metadata": {},
   "source": [
    "r2 score is very small. "
   ]
  },
  {
   "cell_type": "code",
   "execution_count": 156,
   "metadata": {},
   "outputs": [
    {
     "name": "stdout",
     "output_type": "stream",
     "text": [
      "mean square error is:  260670.896429\n",
      "r2 score value is: 0.009005\n"
     ]
    }
   ],
   "source": [
    "mse = []\n",
    "r2_score_value = []\n",
    "train_raw = occupation_value1.copy()\n",
    "pred_y_value= np.zeros(len(y_value))\n",
    "model = RandomForestRegressor(random_state =299, \n",
    "                              n_estimators=200,\n",
    "                              n_jobs=-1)\n",
    "for train_index, valid_index in kf.split(train_raw.iloc[:,:]):\n",
    "    X_train, X_valid = train_raw.iloc[train_index, :], train_raw.iloc[valid_index,:]\n",
    "    y_train, y_valid = y_value[train_index], y_value[valid_index]\n",
    "    model.fit(X_train, y_train)\n",
    "    pred_y_value[valid_index] = model.predict(X_valid)\n",
    "mse.append(mean_squared_error(y_value, pred_y_value))\n",
    "r2_score_value.append(r2_score(y_value, pred_y_value))\n",
    "print('mean square error is: {0: f}'.format(mse[0]))\n",
    "print('r2 score value is: {0:f}'.format(r2_score_value[0]))"
   ]
  },
  {
   "cell_type": "markdown",
   "metadata": {},
   "source": [
    "r2 score is very small."
   ]
  },
  {
   "cell_type": "code",
   "execution_count": 157,
   "metadata": {},
   "outputs": [
    {
     "name": "stdout",
     "output_type": "stream",
     "text": [
      "mean square error is:  262099.268365\n",
      "r2 score value is: 0.003575\n"
     ]
    }
   ],
   "source": [
    "mse = []\n",
    "r2_score_value = []\n",
    "train_raw = personality_type_value1.copy()\n",
    "pred_y_value= np.zeros(len(y_value))\n",
    "model = RandomForestRegressor(random_state =299, \n",
    "                              n_estimators=200,\n",
    "                              n_jobs=-1)\n",
    "for train_index, valid_index in kf.split(train_raw.iloc[:,:]):\n",
    "    X_train, X_valid = train_raw.iloc[train_index, :], train_raw.iloc[valid_index,:]\n",
    "    y_train, y_valid = y_value[train_index], y_value[valid_index]\n",
    "    model.fit(X_train, y_train)\n",
    "    pred_y_value[valid_index] = model.predict(X_valid)\n",
    "mse.append(mean_squared_error(y_value, pred_y_value))\n",
    "r2_score_value.append(r2_score(y_value, pred_y_value))\n",
    "print('mean square error is: {0: f}'.format(mse[0]))\n",
    "print('r2 score value is: {0:f}'.format(r2_score_value[0]))"
   ]
  },
  {
   "cell_type": "markdown",
   "metadata": {},
   "source": [
    "r2 score value is small."
   ]
  },
  {
   "cell_type": "code",
   "execution_count": 160,
   "metadata": {},
   "outputs": [],
   "source": [
    "dummy_tf = Dummy_List_Transformer()\n",
    "temp_thinking_traps1 = dummy_tf.fit_transform(df_temp.thinking_traps)\n",
    "\n",
    "dummy_tf = Dummy_List_Transformer()\n",
    "temp_factors1 = dummy_tf.fit_transform(df_temp.factors)"
   ]
  },
  {
   "cell_type": "code",
   "execution_count": 161,
   "metadata": {},
   "outputs": [
    {
     "name": "stdout",
     "output_type": "stream",
     "text": [
      "mean square error is:  237458.940620\n",
      "r2 score value is: 0.097250\n"
     ]
    }
   ],
   "source": [
    "mse = []\n",
    "r2_score_value = []\n",
    "train_raw = temp_thinking_traps1.copy()\n",
    "pred_y_value= np.zeros(len(y_value))\n",
    "model = RandomForestRegressor(random_state =299, \n",
    "                              n_estimators=200,\n",
    "                              n_jobs=-1)\n",
    "for train_index, valid_index in kf.split(train_raw.iloc[:,:]):\n",
    "    X_train, X_valid = train_raw.iloc[train_index, :], train_raw.iloc[valid_index,:]\n",
    "    y_train, y_valid = y_value[train_index], y_value[valid_index]\n",
    "    model.fit(X_train, y_train)\n",
    "    pred_y_value[valid_index] = model.predict(X_valid)\n",
    "mse.append(mean_squared_error(y_value, pred_y_value))\n",
    "r2_score_value.append(r2_score(y_value, pred_y_value))\n",
    "print('mean square error is: {0: f}'.format(mse[0]))\n",
    "print('r2 score value is: {0:f}'.format(r2_score_value[0]))"
   ]
  },
  {
   "cell_type": "code",
   "execution_count": 162,
   "metadata": {},
   "outputs": [
    {
     "name": "stdout",
     "output_type": "stream",
     "text": [
      "mean square error is:  273052.560000\n",
      "r2 score value is: -0.038066\n"
     ]
    }
   ],
   "source": [
    "mse = []\n",
    "r2_score_value = []\n",
    "train_raw = temp_factors1.copy()\n",
    "pred_y_value= np.zeros(len(y_value))\n",
    "model = RandomForestRegressor(random_state =299, \n",
    "                              n_estimators=200,\n",
    "                              n_jobs=-1)\n",
    "for train_index, valid_index in kf.split(train_raw.iloc[:,:]):\n",
    "    X_train, X_valid = train_raw.iloc[train_index, :], train_raw.iloc[valid_index,:]\n",
    "    y_train, y_valid = y_value[train_index], y_value[valid_index]\n",
    "    model.fit(X_train, y_train)\n",
    "    pred_y_value[valid_index] = model.predict(X_valid)\n",
    "mse.append(mean_squared_error(y_value, pred_y_value))\n",
    "r2_score_value.append(r2_score(y_value, pred_y_value))\n",
    "print('mean square error is: {0: f}'.format(mse[0]))\n",
    "print('r2 score value is: {0:f}'.format(r2_score_value[0]))"
   ]
  },
  {
   "cell_type": "code",
   "execution_count": 163,
   "metadata": {},
   "outputs": [],
   "source": [
    "from sklearn.preprocessing import MinMaxScaler"
   ]
  },
  {
   "cell_type": "code",
   "execution_count": 164,
   "metadata": {},
   "outputs": [],
   "source": [
    "scaler = MinMaxScaler()"
   ]
  },
  {
   "cell_type": "code",
   "execution_count": 166,
   "metadata": {},
   "outputs": [],
   "source": [
    "emotion_level_norm = scaler.fit_transform(df_temp[['emotion_level']])"
   ]
  },
  {
   "cell_type": "code",
   "execution_count": 167,
   "metadata": {},
   "outputs": [
    {
     "data": {
      "text/html": [
       "<div>\n",
       "<style scoped>\n",
       "    .dataframe tbody tr th:only-of-type {\n",
       "        vertical-align: middle;\n",
       "    }\n",
       "\n",
       "    .dataframe tbody tr th {\n",
       "        vertical-align: top;\n",
       "    }\n",
       "\n",
       "    .dataframe thead th {\n",
       "        text-align: right;\n",
       "    }\n",
       "</style>\n",
       "<table border=\"1\" class=\"dataframe\">\n",
       "  <thead>\n",
       "    <tr style=\"text-align: right;\">\n",
       "      <th></th>\n",
       "      <th>emotion_level</th>\n",
       "    </tr>\n",
       "  </thead>\n",
       "  <tbody>\n",
       "    <tr>\n",
       "      <th>0</th>\n",
       "      <td>0.60</td>\n",
       "    </tr>\n",
       "    <tr>\n",
       "      <th>1</th>\n",
       "      <td>1.00</td>\n",
       "    </tr>\n",
       "    <tr>\n",
       "      <th>2</th>\n",
       "      <td>0.50</td>\n",
       "    </tr>\n",
       "    <tr>\n",
       "      <th>3</th>\n",
       "      <td>0.75</td>\n",
       "    </tr>\n",
       "    <tr>\n",
       "      <th>4</th>\n",
       "      <td>0.90</td>\n",
       "    </tr>\n",
       "  </tbody>\n",
       "</table>\n",
       "</div>"
      ],
      "text/plain": [
       "   emotion_level\n",
       "0           0.60\n",
       "1           1.00\n",
       "2           0.50\n",
       "3           0.75\n",
       "4           0.90"
      ]
     },
     "execution_count": 167,
     "metadata": {},
     "output_type": "execute_result"
    }
   ],
   "source": [
    "emotion_level_temp = pd.DataFrame({'emotion_level': emotion_level_norm[:,0]})\n",
    "emotion_level_temp.head()"
   ]
  },
  {
   "cell_type": "code",
   "execution_count": 168,
   "metadata": {},
   "outputs": [
    {
     "data": {
      "text/html": [
       "<div>\n",
       "<style scoped>\n",
       "    .dataframe tbody tr th:only-of-type {\n",
       "        vertical-align: middle;\n",
       "    }\n",
       "\n",
       "    .dataframe tbody tr th {\n",
       "        vertical-align: top;\n",
       "    }\n",
       "\n",
       "    .dataframe thead th {\n",
       "        text-align: right;\n",
       "    }\n",
       "</style>\n",
       "<table border=\"1\" class=\"dataframe\">\n",
       "  <thead>\n",
       "    <tr style=\"text-align: right;\">\n",
       "      <th></th>\n",
       "      <th>anger</th>\n",
       "      <th>anxiety</th>\n",
       "      <th>boredom</th>\n",
       "      <th>depression</th>\n",
       "      <th>disgust</th>\n",
       "      <th>envy</th>\n",
       "      <th>fear</th>\n",
       "      <th>frustration</th>\n",
       "      <th>insecurity</th>\n",
       "      <th>numbness</th>\n",
       "      <th>sadness</th>\n",
       "      <th>shame</th>\n",
       "      <th>stress</th>\n",
       "      <th>tiredness</th>\n",
       "      <th>emotion_level</th>\n",
       "    </tr>\n",
       "  </thead>\n",
       "  <tbody>\n",
       "    <tr>\n",
       "      <th>0</th>\n",
       "      <td>0</td>\n",
       "      <td>0</td>\n",
       "      <td>0</td>\n",
       "      <td>0</td>\n",
       "      <td>0</td>\n",
       "      <td>0</td>\n",
       "      <td>0</td>\n",
       "      <td>0</td>\n",
       "      <td>0</td>\n",
       "      <td>0</td>\n",
       "      <td>0</td>\n",
       "      <td>0</td>\n",
       "      <td>0</td>\n",
       "      <td>1</td>\n",
       "      <td>0.60</td>\n",
       "    </tr>\n",
       "    <tr>\n",
       "      <th>1</th>\n",
       "      <td>0</td>\n",
       "      <td>0</td>\n",
       "      <td>0</td>\n",
       "      <td>1</td>\n",
       "      <td>0</td>\n",
       "      <td>0</td>\n",
       "      <td>0</td>\n",
       "      <td>0</td>\n",
       "      <td>0</td>\n",
       "      <td>0</td>\n",
       "      <td>0</td>\n",
       "      <td>0</td>\n",
       "      <td>0</td>\n",
       "      <td>0</td>\n",
       "      <td>1.00</td>\n",
       "    </tr>\n",
       "    <tr>\n",
       "      <th>2</th>\n",
       "      <td>0</td>\n",
       "      <td>0</td>\n",
       "      <td>0</td>\n",
       "      <td>0</td>\n",
       "      <td>0</td>\n",
       "      <td>0</td>\n",
       "      <td>0</td>\n",
       "      <td>0</td>\n",
       "      <td>1</td>\n",
       "      <td>0</td>\n",
       "      <td>0</td>\n",
       "      <td>0</td>\n",
       "      <td>0</td>\n",
       "      <td>0</td>\n",
       "      <td>0.50</td>\n",
       "    </tr>\n",
       "    <tr>\n",
       "      <th>3</th>\n",
       "      <td>0</td>\n",
       "      <td>0</td>\n",
       "      <td>0</td>\n",
       "      <td>0</td>\n",
       "      <td>0</td>\n",
       "      <td>0</td>\n",
       "      <td>0</td>\n",
       "      <td>0</td>\n",
       "      <td>0</td>\n",
       "      <td>0</td>\n",
       "      <td>0</td>\n",
       "      <td>0</td>\n",
       "      <td>0</td>\n",
       "      <td>1</td>\n",
       "      <td>0.75</td>\n",
       "    </tr>\n",
       "    <tr>\n",
       "      <th>4</th>\n",
       "      <td>0</td>\n",
       "      <td>0</td>\n",
       "      <td>0</td>\n",
       "      <td>0</td>\n",
       "      <td>0</td>\n",
       "      <td>0</td>\n",
       "      <td>0</td>\n",
       "      <td>0</td>\n",
       "      <td>0</td>\n",
       "      <td>0</td>\n",
       "      <td>0</td>\n",
       "      <td>0</td>\n",
       "      <td>1</td>\n",
       "      <td>0</td>\n",
       "      <td>0.90</td>\n",
       "    </tr>\n",
       "  </tbody>\n",
       "</table>\n",
       "</div>"
      ],
      "text/plain": [
       "   anger  anxiety  boredom  depression  disgust  envy  fear  frustration  \\\n",
       "0      0        0        0           0        0     0     0            0   \n",
       "1      0        0        0           1        0     0     0            0   \n",
       "2      0        0        0           0        0     0     0            0   \n",
       "3      0        0        0           0        0     0     0            0   \n",
       "4      0        0        0           0        0     0     0            0   \n",
       "\n",
       "   insecurity  numbness  sadness  shame  stress  tiredness  emotion_level  \n",
       "0           0         0        0      0       0          1           0.60  \n",
       "1           0         0        0      0       0          0           1.00  \n",
       "2           1         0        0      0       0          0           0.50  \n",
       "3           0         0        0      0       0          1           0.75  \n",
       "4           0         0        0      0       1          0           0.90  "
      ]
     },
     "execution_count": 168,
     "metadata": {},
     "output_type": "execute_result"
    }
   ],
   "source": [
    "df_temp1 = pd.concat([emotion_value1, emotion_level_temp], axis=1)\n",
    "df_temp1.head()"
   ]
  },
  {
   "cell_type": "code",
   "execution_count": 169,
   "metadata": {},
   "outputs": [
    {
     "name": "stdout",
     "output_type": "stream",
     "text": [
      "mean square error is:  258392.067448\n",
      "r2 score value is: 0.017669\n"
     ]
    }
   ],
   "source": [
    "mse = []\n",
    "r2_score_value = []\n",
    "train_raw = df_temp1.copy()\n",
    "pred_y_value= np.zeros(len(y_value))\n",
    "model = RandomForestRegressor(random_state =299, \n",
    "                              n_estimators=200,\n",
    "                              n_jobs=-1)\n",
    "for train_index, valid_index in kf.split(train_raw.iloc[:,:]):\n",
    "    X_train, X_valid = train_raw.iloc[train_index, :], train_raw.iloc[valid_index,:]\n",
    "    y_train, y_valid = y_value[train_index], y_value[valid_index]\n",
    "    model.fit(X_train, y_train)\n",
    "    pred_y_value[valid_index] = model.predict(X_valid)\n",
    "mse.append(mean_squared_error(y_value, pred_y_value))\n",
    "r2_score_value.append(r2_score(y_value, pred_y_value))\n",
    "print('mean square error is: {0: f}'.format(mse[0]))\n",
    "print('r2 score value is: {0:f}'.format(r2_score_value[0]))"
   ]
  },
  {
   "cell_type": "code",
   "execution_count": 170,
   "metadata": {},
   "outputs": [
    {
     "name": "stdout",
     "output_type": "stream",
     "text": [
      "(18, 85)\n"
     ]
    }
   ],
   "source": [
    "print(df_temp.age.min(), df_temp.age.max())"
   ]
  },
  {
   "cell_type": "markdown",
   "metadata": {},
   "source": [
    "## Question 3. <span style=\"color:blue\">What insights related to user’s engagement with the app can you extract from the data? What clusters of users do have the highest engagement rate?</span>"
   ]
  },
  {
   "cell_type": "markdown",
   "metadata": {},
   "source": [
    "## Based on the model calculation above, these categorical variables have little influence on the conversation_duration.  So I can only draw conclusion that users of age in the range[18,40] have highest engagement rate, "
   ]
  },
  {
   "cell_type": "code",
   "execution_count": null,
   "metadata": {},
   "outputs": [],
   "source": []
  }
 ],
 "metadata": {
  "kernelspec": {
   "display_name": "Python 2",
   "language": "python",
   "name": "python2"
  },
  "language_info": {
   "codemirror_mode": {
    "name": "ipython",
    "version": 2
   },
   "file_extension": ".py",
   "mimetype": "text/x-python",
   "name": "python",
   "nbconvert_exporter": "python",
   "pygments_lexer": "ipython2",
   "version": "2.7.15"
  }
 },
 "nbformat": 4,
 "nbformat_minor": 2
}
